{
 "cells": [
  {
   "cell_type": "markdown",
   "id": "19321d1c-9d0c-4094-af46-0ace76f0ad6d",
   "metadata": {},
   "source": [
    "# Import dependencies"
   ]
  },
  {
   "cell_type": "code",
   "execution_count": 1,
   "id": "1bdd4cbe-de70-4178-962b-1230f9eaebc8",
   "metadata": {
    "tags": []
   },
   "outputs": [],
   "source": [
    "import pandas as pd\n",
    "import numpy as np\n",
    "import matplotlib.pyplot as plt\n",
    "from datetime import timedelta\n",
    "from datetime import date"
   ]
  },
  {
   "cell_type": "code",
   "execution_count": 2,
   "id": "4298c857-d7f9-4f6a-99e9-2dd81ac19d94",
   "metadata": {},
   "outputs": [],
   "source": [
    "from sklearn.model_selection import train_test_split\n",
    "from sklearn.linear_model import LogisticRegression\n",
    "from sklearn import preprocessing\n",
    "from sklearn.metrics import accuracy_score, classification_report, confusion_matrix\n",
    "from matplotlib import pyplot as plt\n",
    "import seaborn as sns"
   ]
  },
  {
   "cell_type": "code",
   "execution_count": 3,
   "id": "d055dc8c-44ad-4b08-98e4-342dc70d349b",
   "metadata": {},
   "outputs": [],
   "source": [
    "from custom_modules import descriptive_analysis as da\n",
    "from custom_modules import analysis as a\n",
    "from custom_modules import feature_engineering as fe\n",
    "from custom_modules import plotting as pl"
   ]
  },
  {
   "cell_type": "markdown",
   "id": "cefe158e-b5e8-4781-8cf0-560da41fd3ee",
   "metadata": {},
   "source": [
    "# Input Files"
   ]
  },
  {
   "cell_type": "code",
   "execution_count": 4,
   "id": "f743e1e5-735d-4d1e-b85d-7266cae8a9a6",
   "metadata": {},
   "outputs": [],
   "source": [
    "file_path_1 = r\"gs://ppl-analytics-cfs/Survival Ad-hoc/2022 Adjustment eff February 20, 2022 revised.xlsx\"\n",
    "file_path_2 = r\"gs://ppl-analytics-cfs/Survival Ad-hoc/Copy of DemographicData.csv\"\n",
    "file_path_3 = r\"gs://ppl-analytics-cfs/Survival Ad-hoc/adjustment -June 2022.xlsx\"\n",
    "file_path_4 = r\"gs://ppl-analytics-cfs/Survival Ad-hoc/Book2.xlsx\"\n",
    "file_path_5 = r\"gs://ppl-analytics-cfs/Survival Ad-hoc/adj_june.xlsx\""
   ]
  },
  {
   "cell_type": "code",
   "execution_count": null,
   "id": "c8502a49-a0dd-4fda-bcb5-dd623a5ece9b",
   "metadata": {},
   "outputs": [],
   "source": [
    "df_past = pd.read_excel(file_path_1)\n",
    "df_colleague = pd.read_csv(file_path_2, low_memory=False)\n",
    "df_current = pd.read_excel(file_path_5)\n",
    "df_pc = pd.read_excel(file_path_4)\n",
    "# new_june = pd.read_excel(file_path_5)"
   ]
  },
  {
   "cell_type": "markdown",
   "id": "ef5e501d-3f71-468f-bbeb-850c4153923b",
   "metadata": {},
   "source": [
    "# EDA"
   ]
  },
  {
   "cell_type": "markdown",
   "id": "faa09b90-ff87-42a7-9c1e-dcda0040237b",
   "metadata": {},
   "source": [
    "## Colleague Data EDA"
   ]
  },
  {
   "cell_type": "code",
   "execution_count": null,
   "id": "8d81b195-8968-4e74-9a33-d8a52d17cd24",
   "metadata": {
    "tags": []
   },
   "outputs": [],
   "source": [
    "proper_data_types = {'Active Status':'category',\n",
    "                     'Base Pay Eff Date':'datetime64',\n",
    "                     'Benefits Service Date':'datetime64',\n",
    "                     'Bonus Plan Profile Target Percent':'float32',\n",
    "                     'Compa Ratio':'float32',\n",
    "                     'Compensation Grade':'category',\n",
    "                     'Compensation Most Recent Change Date':'datetime64',\n",
    "                     'Compensation Package':'category',\n",
    "                     'Compensation Plan Type':'category',\n",
    "                     'Country':'category',\n",
    "                     'Default Weekly Hours':'float32',\n",
    "                     'Date of Birth':'datetime64',\n",
    "                     'Dist Channel Group':'category',\n",
    "                     'Effective Date for Current Position':'datetime64',\n",
    "                     'Employee ID':'int32',\n",
    "                     'Employee Type':'category',\n",
    "                     'Estimated Last Day of Leave':'datetime64',\n",
    "                     'FTE':'float64',\n",
    "                     'First Day of Leave':'datetime64',\n",
    "                     'Full Time Date/Company Serv Date':'datetime64',\n",
    "                     'Gender':'category',\n",
    "                     'Hire Date':'datetime64',\n",
    "                     'Hire Corp Year Num':'float32',\n",
    "                     'Hire Corp Week Num':'float32',\n",
    "                     'Hours Per Shift':'category',\n",
    "                     'Is Manager':'category',\n",
    "                     'Job Family Group':'category',\n",
    "                     'Job Profile Start Date':'datetime64',\n",
    "                     'Language':'category',\n",
    "                     'Last Day of Work for Leave':'category',\n",
    "                     'Location - Scheduled Hours':'category',\n",
    "                     'Location Hierarchy':'category',\n",
    "                     'Management Level':'category',\n",
    "                     'Meal Flag':'category',\n",
    "                     'On Leave':'category',\n",
    "                     'Original Hire Date':'datetime64',\n",
    "                     'Part-Time Availability':'category',\n",
    "                     'Pay Frequency - Payroll':'category',\n",
    "                     'Pay Group':'category',\n",
    "                     'Pay Rate Type - Job Profile':'category',\n",
    "                     'Pay Rate Type - Worker':'category',\n",
    "                     'Pay Status':'category',\n",
    "                     'Pay Through Date':'datetime64',\n",
    "                     'Province':'category',\n",
    "                     'Region':'category',\n",
    "                     'Salary Continuance':'datetime64',\n",
    "                     'Scheduled Weekly Hours':'float32',\n",
    "                     'Scheduling Date':'datetime64',\n",
    "                     'Sen Date':'datetime64',\n",
    "                     'Seniority Date':'datetime64',\n",
    "                     'Staffing Model':'category',\n",
    "                     'Store Number':'category',\n",
    "                     'Structure':'category',\n",
    "                     'INTCF - 032 - Supervisory Org Subtype':'category',\n",
    "                     'Term less than 12 months':'category',\n",
    "                     'Term less than 6 months':'category',\n",
    "                     'Terminated':'category',\n",
    "                     'Termination Corp Year Num':'float32',\n",
    "                     'Termination Corp Week Num':'float32',\n",
    "                     'Termination Category':'category',\n",
    "                     'Termination Date':'datetime64',\n",
    "                     'Termination Reason':'category',\n",
    "                     'Time Off Service Date':'datetime64',\n",
    "                     'Time Profile':'category',\n",
    "                     'Time Type':'category',\n",
    "                     'Time in Position':'float32',\n",
    "                     'Total Base Pay - Amount':'float32',\n",
    "                     'Total Base Pay - Frequency':'category',\n",
    "                     'Union':'category',\n",
    "                     'Union?':'category',\n",
    "                     'Vacation Date/Cont Serv Date':'datetime64',\n",
    "                     'Yrs of Service as of Dec 31st':'float32',\n",
    "                     'zWD_SITE':'category'\n",
    "                    }\n",
    "\n",
    "for key in set(proper_data_types.keys()).difference(df_colleague.columns): \n",
    "       del proper_data_types[key]\n",
    "proper_data_types = da.missing_dict(proper_data_types)\n",
    "df_colleague = df_colleague.astype(proper_data_types, errors='ignore')\n",
    "        \n",
    "text_cols = [col for col in df_colleague.columns if df_colleague[col].dtype == 'object']\n",
    "\n",
    "df_colleague = fe.nlp.make_lower(df_colleague, text_cols)\n",
    "df_colleague = fe.nlp.remove_extra_spaces(df_colleague, text_cols)\n",
    "df_colleague = df_colleague.rename(columns = {'INTCF - 032 - Supervisory Org Subtype':'Supervisory Org Subtype'})"
   ]
  },
  {
   "cell_type": "code",
   "execution_count": null,
   "id": "11ae7fe9-29a0-47f5-ac80-faeb25b87523",
   "metadata": {},
   "outputs": [],
   "source": [
    "da.display_description(df_colleague)"
   ]
  },
  {
   "cell_type": "code",
   "execution_count": null,
   "id": "3f5ac70f-30ea-4b48-891a-6897d28ce6d8",
   "metadata": {},
   "outputs": [],
   "source": [
    "da.duplicated_rows(df_colleague, 'ID - Win', output=False)"
   ]
  },
  {
   "cell_type": "code",
   "execution_count": null,
   "id": "46a442ea-2c22-4593-a46f-43cf46adc130",
   "metadata": {},
   "outputs": [],
   "source": [
    "df_colleague = df_colleague.drop_duplicates(subset = ['ID - Win'])"
   ]
  },
  {
   "cell_type": "code",
   "execution_count": null,
   "id": "579fc3e9-caba-44b8-87f3-d7b371f80638",
   "metadata": {},
   "outputs": [],
   "source": [
    "df_colleague.head()"
   ]
  },
  {
   "cell_type": "markdown",
   "id": "635836b5-46f6-4b69-a18c-1a56faa5b387",
   "metadata": {},
   "source": [
    "## Adjustment Data"
   ]
  },
  {
   "cell_type": "code",
   "execution_count": null,
   "id": "c6eee180-8831-4090-9e69-519d6ebe1cb9",
   "metadata": {},
   "outputs": [],
   "source": [
    "past_data_types = {'2021 Top Talent':'category',\n",
    "                     'Adjustment_Diff':'float32',\n",
    "                     'Business Unit':'category',\n",
    "                     'Categorization Flag':'category',\n",
    "                     'Comp Validated Prioritzation Segment':'category',\n",
    "                     'Competency in Role (based on current role)':'category',\n",
    "                     'Current Annualized Rate':'float32',\n",
    "                     'Current Internal Ratio':'float32',\n",
    "                     'Current Market Ratio':'float32',\n",
    "                     'Current Salary':'float32',\n",
    "                     'Employee ID':'int32',\n",
    "                     'Final EIB Adjustment':'float32',\n",
    "                     'Final EIB Annualized Salary':'float32',\n",
    "                     'Final Internal Ratio':'float32',\n",
    "                     'Final Market Ratio':'float32',\n",
    "                     'GPE Priority Categorization - Org Wide':'category',\n",
    "                     'Gender':'category',\n",
    "                     'Grade':'category',\n",
    "                     'HIPO + HIPER':'category',\n",
    "                     'Hot Skill':'category',\n",
    "                     'Internal Reference':'float32',\n",
    "                     'Job Profile':'object',\n",
    "                     'Management Board':'object',\n",
    "                     'Market Reference':'float32',\n",
    "                     'Market Relativity':'category',\n",
    "                     'Market reference annualized':'float32',\n",
    "                     'PDT FLAG CATEGORIZATION':'category',\n",
    "                     'Performance':'category',\n",
    "                     'Potential':'category',\n",
    "                     'Received Adjustment?':'category',\n",
    "                     'Recommended Adjustment':'float32',\n",
    "                     'Recommended Salary/Wage':'float32',\n",
    "                     'Retention':'category',\n",
    "                     'Supervisory Org':'category',\n",
    "                     'Supervisory Org Channel':'category',\n",
    "                     'Time in Role (Years)':'float32'}\n",
    "\n",
    "proper_data_types = da.missing_dict(past_data_types)\n",
    "df_past = df_past.astype(past_data_types, errors='ignore')"
   ]
  },
  {
   "cell_type": "code",
   "execution_count": null,
   "id": "9abb10ab-90e5-47a8-b58c-f533e1f7bb2f",
   "metadata": {},
   "outputs": [],
   "source": [
    "proper_data_types_current = da.missing_dict(proper_data_types)\n",
    "df_current = df_current.astype(proper_data_types_current, errors = 'ignore')"
   ]
  },
  {
   "cell_type": "raw",
   "id": "569cc428-5ad3-4429-98ec-9d7e58369cfd",
   "metadata": {},
   "source": [
    "for key in set(proper_data_types.keys()).difference(df_colleague.columns): \n",
    "       del proper_data_types[key]\n",
    "proper_data_types = da.missing_dict(proper_data_types)\n",
    "df_colleague = df_colleague.astype(proper_data_types, errors='ignore')"
   ]
  },
  {
   "cell_type": "code",
   "execution_count": null,
   "id": "c11a9702-704b-4ef3-92a4-92610b661369",
   "metadata": {},
   "outputs": [],
   "source": [
    "df_current['Cost - July 29 Calc'].value_counts()"
   ]
  },
  {
   "cell_type": "code",
   "execution_count": null,
   "id": "4bda67ab-f0c2-4264-bd36-2f57d8a33b83",
   "metadata": {},
   "outputs": [],
   "source": [
    "df_current['Cost Centre Hierarchy Top Lev 06']"
   ]
  },
  {
   "cell_type": "code",
   "execution_count": null,
   "id": "329e3403-ccfb-4cc0-9ffb-25c0b69edea4",
   "metadata": {},
   "outputs": [],
   "source": [
    "da.display_description(df_past)"
   ]
  },
  {
   "cell_type": "code",
   "execution_count": null,
   "id": "95adf618-c92b-44df-8402-abd17daf6488",
   "metadata": {},
   "outputs": [],
   "source": [
    "df_past = df_past.dropna(subset = ['Employee ID'])"
   ]
  },
  {
   "cell_type": "code",
   "execution_count": null,
   "id": "2e4a445c-858e-4dbf-85c7-66008c88fd51",
   "metadata": {},
   "outputs": [],
   "source": [
    "da.duplicated_rows(df_past, 'Employee ID', output=False)"
   ]
  },
  {
   "cell_type": "code",
   "execution_count": null,
   "id": "53523ad0-90ed-434e-94cb-4223fe81d4c8",
   "metadata": {},
   "outputs": [],
   "source": [
    "df_past = df_past.drop_duplicates(subset = ['Employee ID'])"
   ]
  },
  {
   "cell_type": "markdown",
   "id": "c43e4265-6a19-43a2-9a67-d4182f494f8a",
   "metadata": {},
   "source": [
    "## Current Adjustment Data"
   ]
  },
  {
   "cell_type": "code",
   "execution_count": null,
   "id": "7df910a5-2969-4447-a893-1212ecdc4498",
   "metadata": {},
   "outputs": [],
   "source": [
    "df_current"
   ]
  },
  {
   "cell_type": "markdown",
   "id": "43ddee82-4d54-4a98-b897-2c0eaf651eb3",
   "metadata": {
    "tags": []
   },
   "source": [
    "# Merge Data Frames"
   ]
  },
  {
   "cell_type": "code",
   "execution_count": null,
   "id": "5ed0128c-e389-438d-8bc7-816d45c5aafe",
   "metadata": {
    "tags": []
   },
   "outputs": [],
   "source": [
    "df_merged = df.merge(df_colleague[['ID - Win', 'Hire Date','Terminated', 'Termination Date','Termination Category']], left_on = 'Employee ID' , right_on = 'ID - Win', how = 'left')"
   ]
  },
  {
   "cell_type": "code",
   "execution_count": null,
   "id": "1cebdd37-deb8-423b-94cc-d36c636a2f92",
   "metadata": {
    "tags": []
   },
   "outputs": [],
   "source": [
    "filter_1 = (df_merged['Termination Category'] != 'Involuntary')"
   ]
  },
  {
   "cell_type": "code",
   "execution_count": null,
   "id": "da14e6e3-6aca-4558-9923-606981bf1ef6",
   "metadata": {},
   "outputs": [],
   "source": [
    "df_final = df_merged[(filter_1)]"
   ]
  },
  {
   "cell_type": "code",
   "execution_count": null,
   "id": "401b0f53-e8d7-4f4b-82f7-92e9e98c4be0",
   "metadata": {},
   "outputs": [],
   "source": [
    "print(df.shape)\n",
    "print(df_colleague.shape)\n",
    "print(df_merged.shape)\n",
    "print(df_final.shape)"
   ]
  },
  {
   "cell_type": "markdown",
   "id": "0ee943c7-8a3d-42ff-bbb1-99309ffd93df",
   "metadata": {},
   "source": [
    "# Feature Engineering"
   ]
  },
  {
   "cell_type": "code",
   "execution_count": null,
   "id": "1cce13fb-8ff7-4036-969d-b5fb86a3184f",
   "metadata": {},
   "outputs": [],
   "source": [
    "# # Converting terminated to binary column for WOE calculations\n",
    "\n",
    "df_colleague['Terminated'] = df_colleague['Terminated'].astype(str).map({'Yes':1}).fillna(0).astype('int32')"
   ]
  },
  {
   "cell_type": "markdown",
   "id": "77f52d17-3716-4e82-91e1-e302d5cbc6e9",
   "metadata": {},
   "source": [
    "## Colleague Data"
   ]
  },
  {
   "cell_type": "markdown",
   "id": "ec0bdc46-f773-4593-b607-3c4731426d73",
   "metadata": {},
   "source": [
    "### Tenure"
   ]
  },
  {
   "cell_type": "code",
   "execution_count": null,
   "id": "b81678d9-402e-4427-bb4d-78b55603ee58",
   "metadata": {
    "tags": []
   },
   "outputs": [],
   "source": [
    "# Creating a reference data for calculating age and tenurity (if terminated, termination date otherwise today's date)\n",
    "df_colleague['Reference Date'] = df_colleague['Termination Date']\n",
    "df_colleague['Reference Date'] = df_colleague['Reference Date'].fillna(str(date.today()))\n",
    "df_colleague['Reference Date'] = pd.to_datetime(df_colleague['Reference Date']) \n",
    "\n",
    "df_colleague['Tenure'] = round(fe.drivers.num_month_diff(df_colleague['Reference Date'].dt, df_colleague['Hire Date'].dt) / 12)\n",
    "df_colleague['Tenure'] = df_colleague['Tenure'].astype('float32')\n",
    "\n",
    "# Calculated tenure based on original hire date is considred for analysis instead of time in position\n",
    "print(\"Percentage of colleagues with the same time in position and tenure: {:.2f}%\".format(sum(df_colleague['Time in Position'] == df_colleague['Tenure'])/len(df_colleague) * 100))\n",
    "\n",
    "# Calculated tenure based on original hire date is considred for analysis instead of Yrs of Service as of Dec 31st\n",
    "print(\"Percentage of colleagues with the same years of Service as of Dec 31st and tenure: {:.2f}%\" \\\n",
    "      .format(sum(df_colleague['Yrs of Service as of Dec 31st'] == df_colleague['Tenure'])/len(df_colleague) * 100))"
   ]
  },
  {
   "cell_type": "markdown",
   "id": "eb55972c-3a7e-471d-b085-dcf1bc3356d7",
   "metadata": {},
   "source": [
    "### Age"
   ]
  },
  {
   "cell_type": "code",
   "execution_count": null,
   "id": "fffd1722-8642-4700-8c6b-5676a6d98cf3",
   "metadata": {},
   "outputs": [],
   "source": [
    "df_colleague['Age'] = round(fe.drivers.num_month_diff(df_colleague['Reference Date'].dt, df_colleague['Date of Birth'].dt) / 12)\n",
    "df_colleague['Age'] = df_colleague['Age'].astype('float32')"
   ]
  },
  {
   "cell_type": "code",
   "execution_count": null,
   "id": "f76badab-3a40-43c9-afe3-e8fad197b0c3",
   "metadata": {
    "tags": []
   },
   "outputs": [],
   "source": [
    "# Required functions\n",
    "def optimal_bins(df, ind_col, target_col, plot_title, data_type='numerical', binning_solver='cp', table_out=True, plot_out=True, analysis_out=True):\n",
    "    \"\"\"Finding optimal bins for categorization of results and generating a table, a plot, and analysis report\"\"\"\n",
    "    from optbinning import OptimalBinning\n",
    "    x = df[ind_col].values\n",
    "    y = df[target_col]\n",
    "    optb = OptimalBinning(name=plot_title, dtype=data_type, solver=binning_solver)\n",
    "    optb.fit(x, y)\n",
    "    binning_table = optb.binning_table\n",
    "    if table_out: display(binning_table.build())\n",
    "    if plot_out: binning_table.plot()\n",
    "    if analysis_out: display(binning_table.analysis())\n",
    "    if table_out: return binning_table.build()\n",
    "\n",
    "def bin_labels(bins_list):\n",
    "    \"\"\"\n",
    "    Creating a list of labels based on bin values for plotting\n",
    "    Note: The space before '<' is on purpose to be able to sort values in Excel properly. \n",
    "    \"\"\"\n",
    "    labels_list = []\n",
    "    labels_list.append(' <' + str(bins_list[1]))\n",
    "    for i in range(1, len(bins_list)-2):\n",
    "        labels_list.append(str(bins_list[i]) + ' - ' + str(bins_list[i+1]))\n",
    "    labels_list.append('>' + str(bins_list[-2]))\n",
    "    return labels_list\n",
    "\n",
    "def cat_plot(df, list_cols=None, target_col=None, plot_kind='strip', horizontal=True, pos_neg_color=True, \n",
    "             title='Categorical Plot for ', title_size=10, estimator=np.mean, confd_int=None):\n",
    "    \"\"\"\n",
    "    Ploting the distribution of categorical cols based on values of a target column.\n",
    "    Availalbe plot kinds: 'strip', 'swarm', 'box', 'violin', 'boxen', 'point', 'bar', or 'count'\n",
    "    \"\"\"\n",
    "    from seaborn import catplot, set, set_style\n",
    "    import numpy as np\n",
    "    # Checking columns\n",
    "    if list_cols is None: list_cols = [col for col in df.columns if str(df[col].dtype) == 'category']\n",
    "    if target_col is None: target_col = df.iloc[:,0].name\n",
    "    # Setting font size\n",
    "    set(font_scale = 0.05 * title_size + 0.35)\n",
    "    set_style(\"ticks\")\n",
    "    # Setting colors\n",
    "    if pos_neg_color:\n",
    "        colors = np.where(df[target_col] < 0, 'red', 'green')\n",
    "    else:\n",
    "        colors = 'bright'\n",
    "    # Creating melted dataframe for multiple rows plotting\n",
    "    df = df[list_cols + [target_col]].melt(id_vars=target_col, value_vars=list_cols, var_name='Attribute', value_name='Category', ignore_index=True)\n",
    "    # Plotting\n",
    "    if horizontal:\n",
    "        g = catplot(x=target_col, y='Category', col='Attribute', data=df, kind=plot_kind, orient=\"h\", palette=colors, color=colors, col_wrap=4, \n",
    "                    ci=confd_int, n_boot=1000, seed=42, legend=False, legend_out=True, estimator=estimator, sharey=False, sharex=False)\n",
    "        g.set_titles(title + \"{col_name}\", size=title_size)\n",
    "    else:\n",
    "        g = catplot(x='Category', y=target_col, col='Attribute', data=df, kind=plot_kind, orient=\"v\", palette=colors, color=colors, col_wrap=4, \n",
    "                    ci=confd_int, n_boot=1000, seed=42, legend=False, legend_out=True, estimator=estimator, sharey=False, sharex=False)\n",
    "        g.set_titles(title + \"{col_name}\", size=title_size)"
   ]
  },
  {
   "cell_type": "markdown",
   "id": "0cba2956-a9fc-4c5f-b2eb-b9a8bb4c9a7a",
   "metadata": {},
   "source": [
    "### Age"
   ]
  },
  {
   "cell_type": "code",
   "execution_count": null,
   "id": "dec54745-d840-4305-aaeb-07541f888c30",
   "metadata": {},
   "outputs": [],
   "source": [
    "col_name = 'Age'\n",
    "pl.histogram_plot(df_colleague, list_cols=[col_name], agg_stat='count', label_size=12, figure_size=(12, 5), bins_method='auto', kernel_density=False)"
   ]
  },
  {
   "cell_type": "code",
   "execution_count": null,
   "id": "471a19cf-cb3e-4c38-82f7-b77a080aadb9",
   "metadata": {},
   "outputs": [],
   "source": [
    "binning_table = optimal_bins(df_colleague, ind_col=col_name, target_col='Terminated', plot_title=col_name + ' as Driver of Attrition', \n",
    "                                 data_type='numerical', binning_solver='cp', table_out=True, plot_out=False, analysis_out=False)"
   ]
  },
  {
   "cell_type": "code",
   "execution_count": null,
   "id": "affab696-160e-421a-b8d5-10858b599230",
   "metadata": {},
   "outputs": [],
   "source": [
    "# Creating categorized column\n",
    "bins_list = [0, 25, 35, 50, 58, 100]\n",
    "labels_list = bin_labels(bins_list)\n",
    "\n",
    "df_colleague[col_name + ' Category'] = pd.cut(df_colleague[col_name], bins=bins_list, labels=labels_list, right=False, retbins=False, precision=3, ordered=True)\n",
    "\n",
    "df_woe = a.reg_analysis.getWOE(df_colleague, col_name + ' Category', 'Terminated').reset_index().rename(columns={'woe':'WoE'})\n",
    "display(df_woe)\n",
    "\n",
    "cat_plot(df_woe, list_cols=[col_name + ' Category'], target_col='WoE', plot_kind='bar', horizontal=True, pos_neg_color=True, title='Attrition based on ', title_size=12)"
   ]
  },
  {
   "cell_type": "markdown",
   "id": "747a1f68-1f3d-4dea-9857-8203481c1105",
   "metadata": {
    "tags": []
   },
   "source": [
    "### Tenure"
   ]
  },
  {
   "cell_type": "code",
   "execution_count": null,
   "id": "08cbfef5-bbc8-42f8-8539-90e46df1826b",
   "metadata": {},
   "outputs": [],
   "source": [
    "col_name = 'Tenure'"
   ]
  },
  {
   "cell_type": "code",
   "execution_count": null,
   "id": "854684a7-f4b0-42c6-b057-091005549231",
   "metadata": {},
   "outputs": [],
   "source": [
    "pl.histogram_plot(df, list_cols=[col_name], agg_stat='count', label_size=12, figure_size=(12, 5), bins_method='auto', kernel_density=False)"
   ]
  },
  {
   "cell_type": "code",
   "execution_count": null,
   "id": "2893c050-a1a5-4c50-9e07-02403462a43d",
   "metadata": {},
   "outputs": [],
   "source": [
    "binning_table = optimal_bins(df, ind_col=col_name, target_col='Terminated', plot_title=col_name + ' as Driver of Attrition', \n",
    "                                    data_type='numerical', binning_solver='cp', table_out=True, plot_out=False, analysis_out=False)"
   ]
  },
  {
   "cell_type": "code",
   "execution_count": null,
   "id": "5ec6a471-1f93-438f-b99c-ff3dff48dfc9",
   "metadata": {},
   "outputs": [],
   "source": [
    "# Creating categorized column\n",
    "bins_list = [0, 0.5, 2.5, 6.5, 10.5, 65]\n",
    "labels_list = bin_labels(bins_list)\n",
    "\n",
    "df[col_name + ' Category'] = pd.cut(df[col_name], bins=bins_list, labels=labels_list, right=False, retbins=False, precision=3, ordered=True)\n",
    "\n",
    "df_woe = anl.reg_analysis.getWOE(df, col_name + ' Category', 'Terminated').reset_index().rename(columns={'woe':'WoE'})\n",
    "display(df_woe)\n",
    "\n",
    "cat_plot(df_woe, list_cols=[col_name + ' Category'], target_col='WoE', plot_kind='bar', horizontal=True, pos_neg_color=True, title='Attrition based on ', title_size=12)"
   ]
  },
  {
   "cell_type": "markdown",
   "id": "37bac9f7-3f07-4f52-bdee-1d3b0197de43",
   "metadata": {
    "tags": []
   },
   "source": [
    "### Base Pay (Salary)"
   ]
  },
  {
   "cell_type": "code",
   "execution_count": null,
   "id": "e60b8b22-90b9-49d9-99e1-8c86fbea9324",
   "metadata": {},
   "outputs": [],
   "source": [
    "col_name = 'Total Base Pay - Amount'"
   ]
  },
  {
   "cell_type": "code",
   "execution_count": null,
   "id": "6a4346c7-f9e7-4375-9ef6-25992f7dbf56",
   "metadata": {},
   "outputs": [],
   "source": [
    "pl.histogram_plot(df, list_cols=[col_name], agg_stat='count', label_size=12, figure_size=(12, 5), bins_method='auto', kernel_density=False)"
   ]
  },
  {
   "cell_type": "code",
   "execution_count": null,
   "id": "f738567f-d136-4be6-8078-6146fa970f04",
   "metadata": {},
   "outputs": [],
   "source": [
    "binning_table = optimal_bins(df, ind_col=col_name, target_col='Terminated', plot_title=col_name + ' as Driver of Attrition', \n",
    "                                    data_type='numerical', binning_solver='cp', table_out=True, plot_out=False, analysis_out=False)"
   ]
  },
  {
   "cell_type": "code",
   "execution_count": null,
   "id": "51b5a1f8-940e-4875-ae08-4eb224abb702",
   "metadata": {},
   "outputs": [],
   "source": [
    "# Creating categorized column\n",
    "bins_list = [0, 16, 18.2, 22.4, 24.8, 26, 40]\n",
    "labels_list = bin_labels(bins_list)\n",
    "\n",
    "df[col_name + ' Category'] = pd.cut(df[col_name], bins=bins_list, labels=labels_list, right=False, retbins=False, precision=3, ordered=True)\n",
    "df_req = df_req.rename(columns={'Total Base Pay - Amount Category':'Base Pay Category'})\n",
    "\n",
    "df_woe = anl.reg_analysis.getWOE(df, 'Base Pay Category', 'Terminated').reset_index().rename(columns={'woe':'WoE'})\n",
    "display(df_woe)\n",
    "\n",
    "cat_plot(df_woe, list_cols=['Base Pay Category'], target_col='WoE', plot_kind='bar', horizontal=True, pos_neg_color=True, title='Attrition based on ', title_size=12)"
   ]
  },
  {
   "cell_type": "markdown",
   "id": "dc1623cb-7e80-49f4-b818-06c3a760765b",
   "metadata": {
    "tags": []
   },
   "source": [
    "### Job Functions"
   ]
  },
  {
   "cell_type": "code",
   "execution_count": null,
   "id": "95d7c0f4-5cc0-4be5-8d72-4addf66fccca",
   "metadata": {},
   "outputs": [],
   "source": [
    "col_name = 'Job Functions'"
   ]
  },
  {
   "cell_type": "code",
   "execution_count": null,
   "id": "79798226-28c5-449f-acd7-1bc6bbf37c39",
   "metadata": {
    "tags": []
   },
   "outputs": [],
   "source": [
    "binning_table = optimal_bins(df, ind_col=col_name, target_col='Terminated', plot_title=col_name + ' as Driver of Attrition', \n",
    "                                    data_type='categorical', binning_solver='cp', table_out=True, plot_out=False, analysis_out=False)"
   ]
  },
  {
   "cell_type": "code",
   "execution_count": null,
   "id": "1ad401f8-4100-418c-9562-6e06aded27d2",
   "metadata": {},
   "outputs": [],
   "source": [
    "# Calculating WoE\n",
    "df_woe = anl.reg_analysis.getWOE(df, col_name, 'Terminated').reset_index().rename(columns={'woe':'WoE'})\n",
    "display(df_woe)\n",
    "\n",
    "cat_plot(df_woe, list_cols=[col_name], target_col='WoE', plot_kind='bar', horizontal=True, pos_neg_color=True, title='Attrition based on ', title_size=12)"
   ]
  },
  {
   "cell_type": "markdown",
   "id": "5939c9b8-5e11-47d5-9bb3-a53add18abf8",
   "metadata": {
    "tags": []
   },
   "source": [
    "### Scheduled Weekly Hours"
   ]
  },
  {
   "cell_type": "code",
   "execution_count": null,
   "id": "95c8f7ca-2d7f-429c-bd49-c7c75a941a8b",
   "metadata": {},
   "outputs": [],
   "source": [
    "col_name = 'Scheduled Weekly Hours'"
   ]
  },
  {
   "cell_type": "code",
   "execution_count": null,
   "id": "3e65b717-c09b-4733-b5ee-1f762bb41ab9",
   "metadata": {},
   "outputs": [],
   "source": [
    "pl.histogram_plot(df, list_cols=[col_name], agg_stat='count', label_size=12, figure_size=(12, 5), bins_method='auto', kernel_density=False)"
   ]
  },
  {
   "cell_type": "code",
   "execution_count": null,
   "id": "528d28cf-7ced-41eb-a363-ef5c0ff3292a",
   "metadata": {},
   "outputs": [],
   "source": [
    "binning_table = optimal_bins(df, ind_col=col_name, target_col='Terminated', plot_title=col_name + ' as Driver of Attrition', \n",
    "                                    data_type='numerical', binning_solver='cp', table_out=True, plot_out=False, analysis_out=False)"
   ]
  },
  {
   "cell_type": "code",
   "execution_count": null,
   "id": "ad6ddac4-113d-41f0-9cc9-b36ec33cb084",
   "metadata": {},
   "outputs": [],
   "source": [
    "# Creating categorized column\n",
    "bins_list = [0, 22, 38, 50]\n",
    "labels_list = bin_labels(bins_list)\n",
    "\n",
    "df[col_name + ' Category'] = pd.cut(df[col_name], bins=bins_list, labels=labels_list, right=False, retbins=False, precision=3, ordered=True)\n",
    "\n",
    "df_woe = anl.reg_analysis.getWOE(df, col_name + ' Category', 'Terminated').reset_index().rename(columns={'woe':'WoE'})\n",
    "display(df_woe)\n",
    "\n",
    "cat_plot(df_woe, list_cols=[col_name + ' Category'], target_col='WoE', plot_kind='bar', horizontal=True, pos_neg_color=True, title='Attrition based on ', title_size=12)"
   ]
  },
  {
   "cell_type": "markdown",
   "id": "907f2cb0-cd7e-4b2e-94b5-c778951d9368",
   "metadata": {
    "tags": []
   },
   "source": [
    "### Time Type"
   ]
  },
  {
   "cell_type": "code",
   "execution_count": null,
   "id": "53a9f152-65ec-495e-8d8b-339a2a79bd45",
   "metadata": {},
   "outputs": [],
   "source": [
    "col_name = 'Time Type'"
   ]
  },
  {
   "cell_type": "code",
   "execution_count": null,
   "id": "c08c78a3-197b-4095-b70f-a575158c1c96",
   "metadata": {
    "tags": []
   },
   "outputs": [],
   "source": [
    "binning_table = optimal_bins(df, ind_col=col_name, target_col='Terminated', plot_title=col_name + ' as Driver of Attrition', \n",
    "                                    data_type='categorical', binning_solver='cp', table_out=True, plot_out=False, analysis_out=False)"
   ]
  },
  {
   "cell_type": "code",
   "execution_count": null,
   "id": "681488d8-7a48-4178-87ec-e17d94bbeb8e",
   "metadata": {},
   "outputs": [],
   "source": [
    "# Calculating WoE\n",
    "df_woe = anl.reg_analysis.getWOE(df, col_name, 'Terminated').reset_index().rename(columns={'woe':'WoE'})\n",
    "display(df_woe)\n",
    "\n",
    "cat_plot(df_woe, list_cols=[col_name], target_col='WoE', plot_kind='bar', horizontal=True, pos_neg_color=True, title='Attrition based on ', title_size=12)"
   ]
  },
  {
   "cell_type": "markdown",
   "id": "41b3e2f7-aa46-4c5f-8865-3d2b2ffa14ba",
   "metadata": {
    "tags": []
   },
   "source": [
    "### Employee Type"
   ]
  },
  {
   "cell_type": "code",
   "execution_count": null,
   "id": "758033e3-02a4-4e48-9795-8853ced4fa78",
   "metadata": {},
   "outputs": [],
   "source": [
    "col_name = 'Employee Type'"
   ]
  },
  {
   "cell_type": "code",
   "execution_count": null,
   "id": "85f84bec-650d-461c-b649-c49445cf658e",
   "metadata": {
    "tags": []
   },
   "outputs": [],
   "source": [
    "binning_table = optimal_bins(df, ind_col=col_name, target_col='Terminated', plot_title=col_name + ' as Driver of Attrition', \n",
    "                                    data_type='categorical', binning_solver='cp', table_out=True, plot_out=False, analysis_out=False)"
   ]
  },
  {
   "cell_type": "code",
   "execution_count": null,
   "id": "aa82c277-bc5d-487e-b059-507ae8112680",
   "metadata": {},
   "outputs": [],
   "source": [
    "# Calculating WoE\n",
    "df_woe = anl.reg_analysis.getWOE(df, col_name, 'Terminated').reset_index().rename(columns={'woe':'WoE'})\n",
    "display(df_woe)\n",
    "\n",
    "cat_plot(df_woe, list_cols=[col_name], target_col='WoE', plot_kind='bar', horizontal=True, pos_neg_color=True, title='Attrition based on ', title_size=12)"
   ]
  },
  {
   "cell_type": "markdown",
   "id": "30908fe2-6b1a-4031-b16e-893659d41286",
   "metadata": {
    "tags": []
   },
   "source": [
    "### Gender"
   ]
  },
  {
   "cell_type": "code",
   "execution_count": null,
   "id": "ef52b194-1f21-4322-8d22-aef75ac7bf3f",
   "metadata": {},
   "outputs": [],
   "source": [
    "col_name = 'Gender'"
   ]
  },
  {
   "cell_type": "code",
   "execution_count": null,
   "id": "17a90cf1-567f-47d9-8bf9-a45b159492a2",
   "metadata": {
    "tags": []
   },
   "outputs": [],
   "source": [
    "binning_table = optimal_bins(df, ind_col=col_name, target_col='Terminated', plot_title=col_name + ' as Driver of Attrition', \n",
    "                                    data_type='categorical', binning_solver='cp', table_out=True, plot_out=False, analysis_out=False)"
   ]
  },
  {
   "cell_type": "code",
   "execution_count": null,
   "id": "d5f8c029-8831-4a1d-8ca9-ad954ccff14e",
   "metadata": {},
   "outputs": [],
   "source": [
    "# Calculating WoE\n",
    "df_woe = anl.reg_analysis.getWOE(df, col_name, 'Terminated').reset_index().rename(columns={'woe':'WoE'})\n",
    "display(df_woe)\n",
    "\n",
    "cat_plot(df_woe, list_cols=[col_name], target_col='WoE', plot_kind='bar', horizontal=True, pos_neg_color=True, title='Attrition based on ', title_size=12)"
   ]
  },
  {
   "cell_type": "markdown",
   "id": "cb58dc4e-58c3-4a20-9f1e-2a7d8e8a913e",
   "metadata": {
    "tags": []
   },
   "source": [
    "### Pay Group"
   ]
  },
  {
   "cell_type": "code",
   "execution_count": null,
   "id": "267b7588-3dee-4025-bf63-de6ed9fd77d2",
   "metadata": {},
   "outputs": [],
   "source": [
    "col_name = 'Pay Group'"
   ]
  },
  {
   "cell_type": "code",
   "execution_count": null,
   "id": "0c6047fa-e7fa-40a2-8f8e-502d88b6a505",
   "metadata": {
    "tags": []
   },
   "outputs": [],
   "source": [
    "binning_table = optimal_bins(df, ind_col=col_name, target_col='Terminated', plot_title=col_name + ' as Driver of Attrition', \n",
    "                                    data_type='categorical', binning_solver='cp', table_out=True, plot_out=False, analysis_out=False)"
   ]
  },
  {
   "cell_type": "code",
   "execution_count": null,
   "id": "c7004901-0fd0-4889-8afd-e646d389da49",
   "metadata": {},
   "outputs": [],
   "source": [
    "# Calculating WoE\n",
    "df_woe = anl.reg_analysis.getWOE(df.loc[df[col_name].isin(['Loblaw_Bi-weekly','Loblaw_Weekly'])].copy(), col_name, 'Terminated').reset_index().rename(columns={'woe':'WoE'})\n",
    "display(df_woe)\n",
    "\n",
    "cat_plot(df_woe, list_cols=[col_name], target_col='WoE', plot_kind='bar', horizontal=True, pos_neg_color=True, title='Attrition based on ', title_size=12)"
   ]
  },
  {
   "cell_type": "markdown",
   "id": "dc7bebc8-21d5-4912-96e7-043bfadddcf0",
   "metadata": {},
   "source": [
    "### Promotion"
   ]
  },
  {
   "cell_type": "code",
   "execution_count": null,
   "id": "5650661c-af76-44aa-9461-75952e3292c8",
   "metadata": {},
   "outputs": [],
   "source": [
    "col_name = 'Promotion'"
   ]
  },
  {
   "cell_type": "code",
   "execution_count": null,
   "id": "e0af4584-27a1-4ba2-b1f9-8150e79f1428",
   "metadata": {
    "tags": []
   },
   "outputs": [],
   "source": [
    "binning_table = optimal_bins(df, ind_col=col_name, target_col='Terminated', plot_title=col_name + ' as Driver of Attrition', \n",
    "                                    data_type='categorical', binning_solver='cp', table_out=True, plot_out=False, analysis_out=False)"
   ]
  },
  {
   "cell_type": "code",
   "execution_count": null,
   "id": "9104f8e6-c07b-47b6-a4d6-7576ed60885c",
   "metadata": {},
   "outputs": [],
   "source": [
    "# Calculating WoE\n",
    "df_woe = anl.reg_analysis.getWOE(df, col_name, 'Terminated').reset_index().rename(columns={'woe':'WoE'})\n",
    "display(df_woe)\n",
    "\n",
    "cat_plot(df_woe, list_cols=[col_name], target_col='WoE', plot_kind='bar', horizontal=True, pos_neg_color=True, title='Attrition based on ', title_size=12)"
   ]
  },
  {
   "cell_type": "markdown",
   "id": "8807ed11-c37d-47de-83f1-6d84c0996181",
   "metadata": {},
   "source": [
    "### Other Attributes"
   ]
  },
  {
   "cell_type": "code",
   "execution_count": null,
   "id": "5afb51f7-0ac2-43ab-a96e-c43e4c20b51c",
   "metadata": {},
   "outputs": [],
   "source": [
    "# Compensation Plan (all hourly based on the scope of colleagues)\n",
    "print(\"Compensation Plan\")\n",
    "sorted(df['Compensation Plan'].astype(str).unique())"
   ]
  },
  {
   "cell_type": "code",
   "execution_count": null,
   "id": "af5826e1-1892-44ff-8b81-4126ecede5f4",
   "metadata": {},
   "outputs": [],
   "source": [
    "# Benefits Service Date\n",
    "col_name = 'Benefits Service Date'\n",
    "print(col_name)\n",
    "print(\"Missing: {} ({:.2f}%)\".format(sum(df[col_name].isna()), sum(df[col_name].isna()) / len(df) * 100))\n",
    "print(\"Difference between\", col_name, \"and Original Hire Date:\")\n",
    "print((df.loc[df[col_name].notna(), col_name] - df.loc[df[col_name].notna(), 'Original Hire Date']).describe())"
   ]
  },
  {
   "cell_type": "code",
   "execution_count": null,
   "id": "71d90ef3-68ad-4a22-9b4b-a689da3da856",
   "metadata": {},
   "outputs": [],
   "source": [
    "# Compensation Most Recent Change Date\n",
    "col_name = 'Compensation Most Recent Change Date'\n",
    "print(col_name)\n",
    "print(\"Missing: {} ({:.2f}%)\".format(sum(df[col_name].isna()), sum(df[col_name].isna()) / len(df) * 100))\n",
    "print(\"Difference between\", col_name, \"and Termination Date:\")\n",
    "print((df.loc[df[col_name].notna(), col_name] - df.loc[df[col_name].notna(), 'Termination Date']).describe())"
   ]
  },
  {
   "cell_type": "code",
   "execution_count": null,
   "id": "94caa7d8-b313-4895-a13c-9188d33fd5ac",
   "metadata": {},
   "outputs": [],
   "source": [
    "# First Day of Leave\n",
    "col_name = 'First Day of Leave'\n",
    "print(col_name)\n",
    "print(\"Missing: {} ({:.2f}%)\".format(sum(df[col_name].isna()), sum(df[col_name].isna()) / len(df) * 100))\n",
    "print(\"Difference between\", col_name, \"and Termination Date:\")\n",
    "print((df.loc[df[col_name].notna(), col_name] - df.loc[df[col_name].notna(), 'Termination Date']).describe())"
   ]
  },
  {
   "cell_type": "code",
   "execution_count": null,
   "id": "1a0c9187-8f7a-444b-8a25-93227fe14154",
   "metadata": {},
   "outputs": [],
   "source": [
    "# Full Time Date/Company Serv Date\n",
    "col_name = 'Full Time Date/Company Serv Date'\n",
    "print(col_name)\n",
    "print(\"Missing: {} ({:.2f}%)\".format(sum(df[col_name].isna()), sum(df[col_name].isna()) / len(df) * 100))\n",
    "print(\"Difference between\", col_name, \"and Original Hire Date:\")\n",
    "print((df.loc[df[col_name].notna(), col_name] != df.loc[df[col_name].notna(), 'Original Hire Date']).describe())"
   ]
  },
  {
   "cell_type": "code",
   "execution_count": null,
   "id": "0d0eb7f6-0764-4ef0-aa2a-58baeecfa8be",
   "metadata": {},
   "outputs": [],
   "source": [
    "# Job Profile Start Date\n",
    "col_name = 'Job Profile Start Date'\n",
    "print(col_name)\n",
    "print(\"Missing: {} ({:.2f}%)\".format(sum(df[col_name].isna()), sum(df[col_name].isna()) / len(df) * 100))\n",
    "print(\"Difference between\", col_name, \"and Original Hire Date:\")\n",
    "print((df.loc[df[col_name].notna(), col_name] - df.loc[df[col_name].notna(), 'Original Hire Date']).describe())"
   ]
  },
  {
   "cell_type": "code",
   "execution_count": null,
   "id": "c3ec3d72-55dd-446e-8cc6-c2df253d17c2",
   "metadata": {},
   "outputs": [],
   "source": [
    "# Compensation Plan (all hourly based on the scope of colleagues)\n",
    "print(\"Meal Flag\")\n",
    "sorted(df['Meal Flag'].astype(str).unique())"
   ]
  },
  {
   "cell_type": "code",
   "execution_count": null,
   "id": "1fcdbaf8-c0ef-4b92-9582-d54e723a653a",
   "metadata": {},
   "outputs": [],
   "source": [
    "# Compensation Plan (all hourly based on the scope of colleagues)\n",
    "print(\"On Leave\")\n",
    "sorted(df['On Leave'].astype(str).unique())"
   ]
  },
  {
   "cell_type": "code",
   "execution_count": null,
   "id": "e913338b-66e8-4290-9b4e-76cde043f27a",
   "metadata": {},
   "outputs": [],
   "source": [
    "# Compensation Plan (all hourly based on the scope of colleagues)\n",
    "print(\"Supervisory Org Subtype\")\n",
    "sorted(df['Supervisory Org Subtype'].astype(str).unique())"
   ]
  },
  {
   "cell_type": "code",
   "execution_count": null,
   "id": "d4e589a0-ab76-4326-9a46-6a6609c50eff",
   "metadata": {},
   "outputs": [],
   "source": [
    "# Indicator of promotion based on Effective Date for Current Position\n",
    "df['Promotion'] = (df['Effective Date for Current Position'] > df['Original Hire Date']).astype('category')"
   ]
  },
  {
   "cell_type": "code",
   "execution_count": null,
   "id": "4c49848c-f781-4346-a2ff-7b40678eb41a",
   "metadata": {
    "tags": []
   },
   "outputs": [],
   "source": [
    "# Required functions\n",
    "def optimal_bins(df, ind_col, target_col, plot_title, data_type='numerical', binning_solver='cp', table_out=True, plot_out=True, analysis_out=True):\n",
    "    \"\"\"Finding optimal bins for categorization of results and generating a table, a plot, and analysis report\"\"\"\n",
    "    from optbinning import OptimalBinning\n",
    "    x = df[ind_col].values\n",
    "    y = df[target_col]\n",
    "    optb = OptimalBinning(name=plot_title, dtype=data_type, solver=binning_solver)\n",
    "    optb.fit(x, y)\n",
    "    binning_table = optb.binning_table\n",
    "    if table_out: display(binning_table.build())\n",
    "    if plot_out: binning_table.plot()\n",
    "    if analysis_out: display(binning_table.analysis())\n",
    "    if table_out: return binning_table.build()\n",
    "\n",
    "def bin_labels(bins_list):\n",
    "    \"\"\"\n",
    "    Creating a list of labels based on bin values for plotting\n",
    "    Note: The space before '<' is on purpose to be able to sort values in Excel properly. \n",
    "    \"\"\"\n",
    "    labels_list = []\n",
    "    labels_list.append(' <' + str(bins_list[1]))\n",
    "    for i in range(1, len(bins_list)-2):\n",
    "        labels_list.append(str(bins_list[i]) + ' - ' + str(bins_list[i+1]))\n",
    "    labels_list.append('>' + str(bins_list[-2]))\n",
    "    return labels_list\n",
    "\n",
    "def cat_plot(df, list_cols=None, target_col=None, plot_kind='strip', horizontal=True, pos_neg_color=True, \n",
    "             title='Categorical Plot for ', title_size=10, estimator=np.mean, confd_int=None):\n",
    "    \"\"\"\n",
    "    Ploting the distribution of categorical cols based on values of a target column.\n",
    "    Availalbe plot kinds: 'strip', 'swarm', 'box', 'violin', 'boxen', 'point', 'bar', or 'count'\n",
    "    \"\"\"\n",
    "    from seaborn import catplot, set, set_style\n",
    "    import numpy as np\n",
    "    # Checking columns\n",
    "    if list_cols is None: list_cols = [col for col in df.columns if str(df[col].dtype) == 'category']\n",
    "    if target_col is None: target_col = df.iloc[:,0].name\n",
    "    # Setting font size\n",
    "    set(font_scale = 0.05 * title_size + 0.35)\n",
    "    set_style(\"ticks\")\n",
    "    # Setting colors\n",
    "    if pos_neg_color:\n",
    "        colors = np.where(df[target_col] < 0, 'red', 'green')\n",
    "    else:\n",
    "        colors = 'bright'\n",
    "    # Creating melted dataframe for multiple rows plotting\n",
    "    df = df[list_cols + [target_col]].melt(id_vars=target_col, value_vars=list_cols, var_name='Attribute', value_name='Category', ignore_index=True)\n",
    "    # Plotting\n",
    "    if horizontal:\n",
    "        g = catplot(x=target_col, y='Category', col='Attribute', data=df, kind=plot_kind, orient=\"h\", palette=colors, color=colors, col_wrap=4, \n",
    "                    ci=confd_int, n_boot=1000, seed=42, legend=False, legend_out=True, estimator=estimator, sharey=False, sharex=False)\n",
    "        g.set_titles(title + \"{col_name}\", size=title_size)\n",
    "    else:\n",
    "        g = catplot(x='Category', y=target_col, col='Attribute', data=df, kind=plot_kind, orient=\"v\", palette=colors, color=colors, col_wrap=4, \n",
    "                    ci=confd_int, n_boot=1000, seed=42, legend=False, legend_out=True, estimator=estimator, sharey=False, sharex=False)\n",
    "        g.set_titles(title + \"{col_name}\", size=title_size)"
   ]
  },
  {
   "cell_type": "markdown",
   "id": "000abae4-a43c-40e0-be27-8309f5106710",
   "metadata": {
    "tags": []
   },
   "source": [
    "### Scheduled Weekly Hours"
   ]
  },
  {
   "cell_type": "code",
   "execution_count": null,
   "id": "155df57b-78b5-4023-bc65-2dcf8b1eedb8",
   "metadata": {},
   "outputs": [],
   "source": [
    "col_name = 'Scheduled Weekly Hours'"
   ]
  },
  {
   "cell_type": "code",
   "execution_count": null,
   "id": "d4caa578-057f-4875-9d7b-0c76ae9c13df",
   "metadata": {},
   "outputs": [],
   "source": [
    "pl.histogram_plot(df, list_cols=[col_name], agg_stat='count', label_size=12, figure_size=(12, 5), bins_method='auto', kernel_density=False)"
   ]
  },
  {
   "cell_type": "code",
   "execution_count": null,
   "id": "5b34ef5b-6ee4-4c89-bbac-0808bc1b8716",
   "metadata": {},
   "outputs": [],
   "source": [
    "binning_table = optimal_bins(df, ind_col=col_name, target_col='Terminated', plot_title=col_name + ' as Driver of Attrition', \n",
    "                                    data_type='numerical', binning_solver='cp', table_out=True, plot_out=False, analysis_out=False)"
   ]
  },
  {
   "cell_type": "code",
   "execution_count": null,
   "id": "3b0a8588-9bf8-447a-bd16-821b07c02638",
   "metadata": {},
   "outputs": [],
   "source": [
    "# Creating categorized column\n",
    "bins_list = [0, 22, 38, 50]\n",
    "labels_list = bin_labels(bins_list)\n",
    "\n",
    "df[col_name + ' Category'] = pd.cut(df[col_name], bins=bins_list, labels=labels_list, right=False, retbins=False, precision=3, ordered=True)\n",
    "\n",
    "df_woe = anl.reg_analysis.getWOE(df, col_name + ' Category', 'Terminated').reset_index().rename(columns={'woe':'WoE'})\n",
    "display(df_woe)\n",
    "\n",
    "cat_plot(df_woe, list_cols=[col_name + ' Category'], target_col='WoE', plot_kind='bar', horizontal=True, pos_neg_color=True, title='Attrition based on ', title_size=12)"
   ]
  },
  {
   "cell_type": "markdown",
   "id": "1bf90919-5279-46ed-817c-193dc07a44d6",
   "metadata": {
    "tags": []
   },
   "source": [
    "### Time Type"
   ]
  },
  {
   "cell_type": "code",
   "execution_count": null,
   "id": "8d87ef45-2724-437c-b60b-cfd0541ec59e",
   "metadata": {},
   "outputs": [],
   "source": [
    "col_name = 'Time Type'"
   ]
  },
  {
   "cell_type": "code",
   "execution_count": null,
   "id": "3d7e4e81-25ea-454d-90ed-3f04b6c2a9ef",
   "metadata": {
    "tags": []
   },
   "outputs": [],
   "source": [
    "binning_table = optimal_bins(df, ind_col=col_name, target_col='Terminated', plot_title=col_name + ' as Driver of Attrition', \n",
    "                                    data_type='categorical', binning_solver='cp', table_out=True, plot_out=False, analysis_out=False)"
   ]
  },
  {
   "cell_type": "code",
   "execution_count": null,
   "id": "0815aa7d-f5bf-4025-b975-c8030a723168",
   "metadata": {},
   "outputs": [],
   "source": [
    "# Calculating WoE\n",
    "df_woe = anl.reg_analysis.getWOE(df, col_name, 'Terminated').reset_index().rename(columns={'woe':'WoE'})\n",
    "display(df_woe)\n",
    "\n",
    "cat_plot(df_woe, list_cols=[col_name], target_col='WoE', plot_kind='bar', horizontal=True, pos_neg_color=True, title='Attrition based on ', title_size=12)"
   ]
  },
  {
   "cell_type": "markdown",
   "id": "f3c73aa3-aaa1-4d7f-b12d-a64a72185d89",
   "metadata": {
    "tags": []
   },
   "source": [
    "### Employee Type"
   ]
  },
  {
   "cell_type": "code",
   "execution_count": null,
   "id": "cbfddace-43c0-4681-b069-d47d53804023",
   "metadata": {},
   "outputs": [],
   "source": [
    "col_name = 'Employee Type'"
   ]
  },
  {
   "cell_type": "code",
   "execution_count": null,
   "id": "c9a8ff49-376b-4fca-b146-d4559e790a6a",
   "metadata": {
    "tags": []
   },
   "outputs": [],
   "source": [
    "binning_table = optimal_bins(df, ind_col=col_name, target_col='Terminated', plot_title=col_name + ' as Driver of Attrition', \n",
    "                                    data_type='categorical', binning_solver='cp', table_out=True, plot_out=False, analysis_out=False)"
   ]
  },
  {
   "cell_type": "code",
   "execution_count": null,
   "id": "c5192904-8110-4af3-b8b7-3461e1e16615",
   "metadata": {},
   "outputs": [],
   "source": [
    "# Calculating WoE\n",
    "df_woe = anl.reg_analysis.getWOE(df, col_name, 'Terminated').reset_index().rename(columns={'woe':'WoE'})\n",
    "display(df_woe)\n",
    "\n",
    "cat_plot(df_woe, list_cols=[col_name], target_col='WoE', plot_kind='bar', horizontal=True, pos_neg_color=True, title='Attrition based on ', title_size=12)"
   ]
  },
  {
   "cell_type": "markdown",
   "id": "33ca2bf1-95af-4720-80bc-e4dfac947750",
   "metadata": {
    "tags": []
   },
   "source": [
    "### Gender"
   ]
  },
  {
   "cell_type": "code",
   "execution_count": null,
   "id": "31a0adf1-03ee-4160-a84b-f57cd35e1eb8",
   "metadata": {},
   "outputs": [],
   "source": [
    "col_name = 'Gender'"
   ]
  },
  {
   "cell_type": "code",
   "execution_count": null,
   "id": "b7d96717-b5a6-40ad-9d28-a1b7ba0d9106",
   "metadata": {
    "tags": []
   },
   "outputs": [],
   "source": [
    "binning_table = optimal_bins(df, ind_col=col_name, target_col='Terminated', plot_title=col_name + ' as Driver of Attrition', \n",
    "                                    data_type='categorical', binning_solver='cp', table_out=True, plot_out=False, analysis_out=False)"
   ]
  },
  {
   "cell_type": "code",
   "execution_count": null,
   "id": "0f392ad7-d9a5-4593-b71c-175b39e10a90",
   "metadata": {},
   "outputs": [],
   "source": [
    "# Calculating WoE\n",
    "df_woe = anl.reg_analysis.getWOE(df, col_name, 'Terminated').reset_index().rename(columns={'woe':'WoE'})\n",
    "display(df_woe)\n",
    "\n",
    "cat_plot(df_woe, list_cols=[col_name], target_col='WoE', plot_kind='bar', horizontal=True, pos_neg_color=True, title='Attrition based on ', title_size=12)"
   ]
  },
  {
   "cell_type": "markdown",
   "id": "011f10e6-e306-4a0b-9075-e4f6ab62047e",
   "metadata": {
    "tags": []
   },
   "source": [
    "### Pay Group"
   ]
  },
  {
   "cell_type": "code",
   "execution_count": null,
   "id": "72b29e2d-5b2c-48f6-9907-bfc989bc4635",
   "metadata": {},
   "outputs": [],
   "source": [
    "col_name = 'Pay Group'"
   ]
  },
  {
   "cell_type": "code",
   "execution_count": null,
   "id": "ba266e06-d3fb-4727-a745-7daf6385182a",
   "metadata": {
    "tags": []
   },
   "outputs": [],
   "source": [
    "binning_table = optimal_bins(df, ind_col=col_name, target_col='Terminated', plot_title=col_name + ' as Driver of Attrition', \n",
    "                                    data_type='categorical', binning_solver='cp', table_out=True, plot_out=False, analysis_out=False)"
   ]
  },
  {
   "cell_type": "code",
   "execution_count": null,
   "id": "08448fdc-ed35-496b-ab5f-661de1e157ae",
   "metadata": {},
   "outputs": [],
   "source": [
    "# Calculating WoE\n",
    "df_woe = anl.reg_analysis.getWOE(df.loc[df[col_name].isin(['Loblaw_Bi-weekly','Loblaw_Weekly'])].copy(), col_name, 'Terminated').reset_index().rename(columns={'woe':'WoE'})\n",
    "display(df_woe)\n",
    "\n",
    "cat_plot(df_woe, list_cols=[col_name], target_col='WoE', plot_kind='bar', horizontal=True, pos_neg_color=True, title='Attrition based on ', title_size=12)"
   ]
  },
  {
   "cell_type": "markdown",
   "id": "ba8583dc-1440-4b57-bc64-490ea3db5cce",
   "metadata": {},
   "source": [
    "### Promotion"
   ]
  },
  {
   "cell_type": "code",
   "execution_count": null,
   "id": "530ec503-ddc9-41b7-ac21-f33439198db6",
   "metadata": {},
   "outputs": [],
   "source": [
    "col_name = 'Promotion'"
   ]
  },
  {
   "cell_type": "code",
   "execution_count": null,
   "id": "137331f9-5fa8-4508-ba27-cf506abe647c",
   "metadata": {
    "tags": []
   },
   "outputs": [],
   "source": [
    "binning_table = optimal_bins(df, ind_col=col_name, target_col='Terminated', plot_title=col_name + ' as Driver of Attrition', \n",
    "                                    data_type='categorical', binning_solver='cp', table_out=True, plot_out=False, analysis_out=False)"
   ]
  },
  {
   "cell_type": "code",
   "execution_count": null,
   "id": "48021641-fe0b-464d-bfd9-bafe11fcd055",
   "metadata": {},
   "outputs": [],
   "source": [
    "# Calculating WoE\n",
    "df_woe = anl.reg_analysis.getWOE(df, col_name, 'Terminated').reset_index().rename(columns={'woe':'WoE'})\n",
    "display(df_woe)\n",
    "\n",
    "cat_plot(df_woe, list_cols=[col_name], target_col='WoE', plot_kind='bar', horizontal=True, pos_neg_color=True, title='Attrition based on ', title_size=12)"
   ]
  },
  {
   "cell_type": "markdown",
   "id": "f26d59af-a095-47ba-abc7-cc6aa85a5f64",
   "metadata": {},
   "source": [
    "### Other Attributes"
   ]
  },
  {
   "cell_type": "code",
   "execution_count": null,
   "id": "27824dd3-cb68-453d-af91-49f801fd472f",
   "metadata": {},
   "outputs": [],
   "source": [
    "# Compensation Plan (all hourly based on the scope of colleagues)\n",
    "print(\"Compensation Plan\")\n",
    "sorted(df['Compensation Plan'].astype(str).unique())"
   ]
  },
  {
   "cell_type": "code",
   "execution_count": null,
   "id": "1b785969-737b-487e-aa51-73d6687de82f",
   "metadata": {},
   "outputs": [],
   "source": [
    "# Benefits Service Date\n",
    "col_name = 'Benefits Service Date'\n",
    "print(col_name)\n",
    "print(\"Missing: {} ({:.2f}%)\".format(sum(df[col_name].isna()), sum(df[col_name].isna()) / len(df) * 100))\n",
    "print(\"Difference between\", col_name, \"and Original Hire Date:\")\n",
    "print((df.loc[df[col_name].notna(), col_name] - df.loc[df[col_name].notna(), 'Original Hire Date']).describe())"
   ]
  },
  {
   "cell_type": "code",
   "execution_count": null,
   "id": "194b3b5d-0698-4b62-ab1b-34ebc3b0a1d6",
   "metadata": {},
   "outputs": [],
   "source": [
    "# Compensation Most Recent Change Date\n",
    "col_name = 'Compensation Most Recent Change Date'\n",
    "print(col_name)\n",
    "print(\"Missing: {} ({:.2f}%)\".format(sum(df[col_name].isna()), sum(df[col_name].isna()) / len(df) * 100))\n",
    "print(\"Difference between\", col_name, \"and Termination Date:\")\n",
    "print((df.loc[df[col_name].notna(), col_name] - df.loc[df[col_name].notna(), 'Termination Date']).describe())"
   ]
  },
  {
   "cell_type": "code",
   "execution_count": null,
   "id": "6cd55918-533b-47f6-a791-78129b57397d",
   "metadata": {},
   "outputs": [],
   "source": [
    "# First Day of Leave\n",
    "col_name = 'First Day of Leave'\n",
    "print(col_name)\n",
    "print(\"Missing: {} ({:.2f}%)\".format(sum(df[col_name].isna()), sum(df[col_name].isna()) / len(df) * 100))\n",
    "print(\"Difference between\", col_name, \"and Termination Date:\")\n",
    "print((df.loc[df[col_name].notna(), col_name] - df.loc[df[col_name].notna(), 'Termination Date']).describe())"
   ]
  },
  {
   "cell_type": "code",
   "execution_count": null,
   "id": "121ef8a6-f7cd-42ba-a07b-05cbbbdeecd1",
   "metadata": {},
   "outputs": [],
   "source": [
    "# Full Time Date/Company Serv Date\n",
    "col_name = 'Full Time Date/Company Serv Date'\n",
    "print(col_name)\n",
    "print(\"Missing: {} ({:.2f}%)\".format(sum(df[col_name].isna()), sum(df[col_name].isna()) / len(df) * 100))\n",
    "print(\"Difference between\", col_name, \"and Original Hire Date:\")\n",
    "print((df.loc[df[col_name].notna(), col_name] != df.loc[df[col_name].notna(), 'Original Hire Date']).describe())"
   ]
  },
  {
   "cell_type": "code",
   "execution_count": null,
   "id": "43d4d5f7-3092-43c2-8efa-2d9c0b74b147",
   "metadata": {},
   "outputs": [],
   "source": [
    "# Job Profile Start Date\n",
    "col_name = 'Job Profile Start Date'\n",
    "print(col_name)\n",
    "print(\"Missing: {} ({:.2f}%)\".format(sum(df[col_name].isna()), sum(df[col_name].isna()) / len(df) * 100))\n",
    "print(\"Difference between\", col_name, \"and Original Hire Date:\")\n",
    "print((df.loc[df[col_name].notna(), col_name] - df.loc[df[col_name].notna(), 'Original Hire Date']).describe())"
   ]
  },
  {
   "cell_type": "code",
   "execution_count": null,
   "id": "244c5aaa-e0f4-43a3-8982-c78ddec4117d",
   "metadata": {},
   "outputs": [],
   "source": [
    "# Compensation Plan (all hourly based on the scope of colleagues)\n",
    "print(\"Meal Flag\")\n",
    "sorted(df['Meal Flag'].astype(str).unique())"
   ]
  },
  {
   "cell_type": "code",
   "execution_count": null,
   "id": "34d84bab-1b87-4679-b3b7-43809fcb16f0",
   "metadata": {},
   "outputs": [],
   "source": [
    "# Compensation Plan (all hourly based on the scope of colleagues)\n",
    "print(\"On Leave\")\n",
    "sorted(df['On Leave'].astype(str).unique())"
   ]
  },
  {
   "cell_type": "code",
   "execution_count": null,
   "id": "78072306-0b9d-4412-a096-7fa96cdee500",
   "metadata": {},
   "outputs": [],
   "source": [
    "# Compensation Plan (all hourly based on the scope of colleagues)\n",
    "print(\"Supervisory Org Subtype\")\n",
    "sorted(df['Supervisory Org Subtype'].astype(str).unique())"
   ]
  },
  {
   "cell_type": "markdown",
   "id": "dee5c24f-a75a-448a-9ae0-b09090fb276c",
   "metadata": {},
   "source": [
    "#### Past Adjustment Data"
   ]
  },
  {
   "cell_type": "code",
   "execution_count": null,
   "id": "926df806-81f2-4215-b2a0-e12b1c9bbabd",
   "metadata": {},
   "outputs": [],
   "source": []
  },
  {
   "cell_type": "code",
   "execution_count": null,
   "id": "b47516e3-8cd5-4212-9d7e-2f7c7d53d48d",
   "metadata": {},
   "outputs": [],
   "source": [
    "da.display_description(df_past)"
   ]
  },
  {
   "cell_type": "code",
   "execution_count": null,
   "id": "7ee46a55-80e2-4a3b-8516-f85b7b5f488f",
   "metadata": {},
   "outputs": [],
   "source": [
    "df['Adjustment Difference'] = df['Adjustment_Diff']*100"
   ]
  },
  {
   "cell_type": "code",
   "execution_count": null,
   "id": "47aa3f19-8081-417f-beee-a445032a45f4",
   "metadata": {},
   "outputs": [],
   "source": [
    "df = df[~df['Employee ID'].isna()]"
   ]
  },
  {
   "cell_type": "code",
   "execution_count": null,
   "id": "a1132498-f5fa-4300-b1cc-fd18a612e936",
   "metadata": {},
   "outputs": [],
   "source": [
    "da.display_description(df)"
   ]
  },
  {
   "cell_type": "code",
   "execution_count": null,
   "id": "029fb4fb-ab22-44b1-a2a5-eb3782e3d1b5",
   "metadata": {},
   "outputs": [],
   "source": [
    "df[df['Grade'].str.contains('Hourly') == True][['Market Reference','Current Salary','Final EIB Adjustment',\n",
    "       'Final EIB Annualized Salary', 'Final Market Ratio',\n",
    "       'Final Internal Ratio', 'Adjustment_Diff', 'Recommended Salary/Wage',\n",
    "       'Recommended Adjustment']]"
   ]
  },
  {
   "cell_type": "code",
   "execution_count": null,
   "id": "5a853013-7bb9-447f-b3e5-a25c2cd632e7",
   "metadata": {},
   "outputs": [],
   "source": [
    "df['Market Reference Annualized 2'] = np.where(df['Grade'].str.contains('Hourly'), df['Market Reference']*280, df['Market Reference'])"
   ]
  },
  {
   "cell_type": "code",
   "execution_count": null,
   "id": "506ebac4-984c-4ddb-9a4e-3e7195741bfe",
   "metadata": {},
   "outputs": [],
   "source": [
    "df[['Market reference annualized', 'Market Reference Annualized 2']]"
   ]
  },
  {
   "cell_type": "code",
   "execution_count": null,
   "id": "41e3e94a-ce03-487d-8880-ea540d28a034",
   "metadata": {},
   "outputs": [],
   "source": [
    "df[(df['Grade'].str.contains('Hourly')) & (~df['Grade'].isna())][['Current Salary', 'Current Annualized Rate','Final EIB Annualized Salary']]"
   ]
  },
  {
   "cell_type": "code",
   "execution_count": null,
   "id": "d62b6491-f0dc-43f1-9795-441b7ad612e4",
   "metadata": {},
   "outputs": [],
   "source": [
    "df_colleague.columns"
   ]
  },
  {
   "cell_type": "markdown",
   "id": "2839cc69-c41f-40a8-829b-74a3c867f072",
   "metadata": {},
   "source": [
    "# Feature Engineering"
   ]
  },
  {
   "cell_type": "code",
   "execution_count": null,
   "id": "31438d39-11af-48ce-843c-d567a53054b3",
   "metadata": {},
   "outputs": [],
   "source": [
    "df_final['Terminated'] = np.where(df_final['Terminated'] == 'Yes', 1, 0)\n",
    "df_final['2021 Top Talent'] = np.where(df_final['2021 Top Talent'] == 'Yes', 1, 0)\n",
    "df_final['HIPO + HIPER'] = np.where(df_final['HIPO + HIPER'] == 'Yes', 1, 0)\n",
    "df_final['Hot Skill'] = np.where(df_final['Hot Skill'] == 'Yes', 1, 0)"
   ]
  },
  {
   "cell_type": "code",
   "execution_count": null,
   "id": "9e6df80f-c0f5-4f16-9d60-312d2a7e747f",
   "metadata": {},
   "outputs": [],
   "source": [
    "df_final['Final Market Ratio'] = df_final['Final EIB Annualized Salary']/df_final['Market reference annualized']*100"
   ]
  },
  {
   "cell_type": "code",
   "execution_count": null,
   "id": "125df92d-1626-423b-9a1d-12c6b38a3de1",
   "metadata": {},
   "outputs": [],
   "source": [
    "df_final['Final Market Ratio']"
   ]
  },
  {
   "cell_type": "code",
   "execution_count": null,
   "id": "33cbc567-22c6-42fb-ad12-3af92782367e",
   "metadata": {},
   "outputs": [],
   "source": [
    "df_grouped_mean = df_final.groupby('Grade').agg({'Current Annualized Rate':'mean','Terminated':'sum','Adjustment Difference':'mean','Final Market Ratio':'mean'}).reset_index()"
   ]
  },
  {
   "cell_type": "code",
   "execution_count": null,
   "id": "5624730b-c7d7-4e43-aa85-5c62eb4d73fe",
   "metadata": {},
   "outputs": [],
   "source": [
    "df_grouped_mean"
   ]
  },
  {
   "cell_type": "code",
   "execution_count": null,
   "id": "a29b1363-786b-4256-bb86-8c41b7eb928e",
   "metadata": {},
   "outputs": [],
   "source": [
    "# df_grouped_mean = df_grouped_mean[~df_grouped_mean['Final Market Ratio'].isna()]\n",
    "df_grouped_mean"
   ]
  },
  {
   "cell_type": "code",
   "execution_count": null,
   "id": "928e6abd-c8c5-49d2-8496-a36f118f917b",
   "metadata": {},
   "outputs": [],
   "source": [
    "df_final['Adjustment Difference'].max()"
   ]
  },
  {
   "cell_type": "markdown",
   "id": "498b46b2-2fcf-4054-959e-538e6cd84f86",
   "metadata": {},
   "source": [
    "# WoE"
   ]
  },
  {
   "cell_type": "code",
   "execution_count": null,
   "id": "9e5c9a9a-3847-47c5-8cb1-19193a6ef314",
   "metadata": {},
   "outputs": [],
   "source": [
    "df_final['Adjustment Difference']"
   ]
  },
  {
   "cell_type": "code",
   "execution_count": null,
   "id": "3ef57775-0268-4057-87c5-2e38046bbb31",
   "metadata": {},
   "outputs": [],
   "source": [
    "df_final['Adjustment Difference'].hist()"
   ]
  },
  {
   "cell_type": "code",
   "execution_count": null,
   "id": "e89a138b-08b4-4772-9125-06942fb56cde",
   "metadata": {},
   "outputs": [],
   "source": [
    "adj_bin = [-100,0.2,3,1000]\n",
    "adj_bin_names = ['<0.2','0.2-3','>3']\n",
    "df_final['adj_cat'] = pd.cut(df_final['Adjustment Difference'], bins = adj_bin, labels = adj_bin_names)"
   ]
  },
  {
   "cell_type": "code",
   "execution_count": null,
   "id": "0d7ff4d1-0948-4c52-b2f7-d72fbd5ee76c",
   "metadata": {},
   "outputs": [],
   "source": [
    "df_woe_adjust = a.reg_analysis.getWOE(df_final, 'adj_cat', 'Terminated')\n",
    "df_woe_adjust"
   ]
  },
  {
   "cell_type": "code",
   "execution_count": null,
   "id": "c6bcacf7-943f-4cd8-add0-a26183fe3330",
   "metadata": {},
   "outputs": [],
   "source": [
    "df_woe_adjust = a.reg_analysis.getWOE(df_final, 'adj_cat', 'Terminated')\n",
    "df_woe_adjust"
   ]
  },
  {
   "cell_type": "code",
   "execution_count": null,
   "id": "af0c3ddf-d7ed-4e72-8f0a-44eb948dd5a0",
   "metadata": {},
   "outputs": [],
   "source": [
    "da.list_unique_values(df_final,['Potential'])"
   ]
  },
  {
   "cell_type": "code",
   "execution_count": null,
   "id": "78139986-444d-4b5e-a0d6-c615226f678f",
   "metadata": {},
   "outputs": [],
   "source": [
    "df_mratio = df_final[df_final['Final Market Ratio'] != np.inf]"
   ]
  },
  {
   "cell_type": "code",
   "execution_count": null,
   "id": "66b1918c-4232-48e8-afcc-83f89d3c3bb6",
   "metadata": {},
   "outputs": [],
   "source": [
    "df_mratio['Final Market Ratio'].hist()"
   ]
  },
  {
   "cell_type": "code",
   "execution_count": null,
   "id": "6bb56772-33cd-408a-9d85-6d6efd84f0b4",
   "metadata": {},
   "outputs": [],
   "source": [
    "market_bin = [-100,80,95,130,1000]\n",
    "market_bin_names = ['<80','80-100','100-130','>130']\n",
    "df_mratio['market_cat'] = pd.cut(df_mratio['Final Market Ratio'], bins = market_bin, labels = market_bin_names)\n",
    "df_final['market_cat'] = pd.cut(df_final['Final Market Ratio'], bins = market_bin, labels = market_bin_names)"
   ]
  },
  {
   "cell_type": "code",
   "execution_count": null,
   "id": "61e7678f-e429-46ee-9d85-03bef91ecfb3",
   "metadata": {},
   "outputs": [],
   "source": [
    "df_woe_market = a.reg_analysis.getWOE(df_final, 'market_cat', 'Terminated')"
   ]
  },
  {
   "cell_type": "markdown",
   "id": "c7443964-acab-4714-ba78-845f60d9b4d5",
   "metadata": {},
   "source": [
    "# Aggregation"
   ]
  },
  {
   "cell_type": "code",
   "execution_count": null,
   "id": "0bb36d51-c89d-4fbb-927f-a03cc46c5a61",
   "metadata": {},
   "outputs": [],
   "source": [
    "len(df_final[(df_final['Received Adjustment?'] == 1) & ((df_final['Terminated'] == 1))])"
   ]
  },
  {
   "cell_type": "code",
   "execution_count": null,
   "id": "512ffef8-9cf0-4a4b-b968-071ed4cf7cd7",
   "metadata": {},
   "outputs": [],
   "source": [
    "df_final[(df_final['Received Adjustment?'] == 1) & ((df_final['Terminated'] == 1))].groupby('Grade').agg({'Adjustment Difference':'mean','Employee ID':'count'})"
   ]
  },
  {
   "cell_type": "code",
   "execution_count": null,
   "id": "8bcd821a-be31-4ef7-98fa-734c4de34e33",
   "metadata": {},
   "outputs": [],
   "source": [
    "len(df_final[(df_final['Received Adjustment?'] == 0) & ((df_final['Terminated'] == 1))])"
   ]
  },
  {
   "cell_type": "code",
   "execution_count": null,
   "id": "f7d1aec1-ac31-4a99-948d-37108797e45e",
   "metadata": {},
   "outputs": [],
   "source": [
    "df_final[(df_final['Received Adjustment?'] == 1) & ((df_final['Terminated'] == 0))].groupby('Grade').agg({'Adjustment Difference':'mean','Employee ID':'count'})"
   ]
  },
  {
   "cell_type": "code",
   "execution_count": null,
   "id": "1a52a929-5a25-4da5-bc5c-23f364460ca5",
   "metadata": {},
   "outputs": [],
   "source": [
    "len(df_final[(df_final['Received Adjustment?'] == 0) & ((df_final['Terminated'] == 0))])"
   ]
  },
  {
   "cell_type": "code",
   "execution_count": null,
   "id": "dddd7d73-5dac-4df6-a9b5-43a3d303b07b",
   "metadata": {},
   "outputs": [],
   "source": [
    "da.list_unique_values(df_final, ['Potential','Performance'])"
   ]
  },
  {
   "cell_type": "code",
   "execution_count": null,
   "id": "340a3e32-9067-4f4c-ab3f-d0a0bb17a535",
   "metadata": {},
   "outputs": [],
   "source": [
    "df_final.groupby('Potential').agg({'Terminated':'count'})"
   ]
  },
  {
   "cell_type": "code",
   "execution_count": null,
   "id": "d53a2711-ea0e-4066-9918-68b60c4b08a5",
   "metadata": {},
   "outputs": [],
   "source": [
    "df_perform = df_final.groupby('Performance').agg({'Employee ID':'count','Terminated':'sum','HIPO + HIPER':'mean','Hot Skill':'mean','2021 Top Talent':'mean','Adjustment Difference':'mean'})\n",
    "df_perform['Termination %'] = df_perform['Terminated']/df_perform['Employee ID']*100\n",
    "display(df_perform)"
   ]
  },
  {
   "cell_type": "code",
   "execution_count": null,
   "id": "5c0bece8-1c19-4f9e-938f-d38b0a3c4b67",
   "metadata": {},
   "outputs": [],
   "source": [
    "df_potential = df_final.groupby('Potential').agg({'Employee ID':'count','Terminated':'sum','HIPO + HIPER':'mean','Hot Skill':'mean','2021 Top Talent':'mean','Adjustment Difference':'mean'})\n",
    "df_potential['Termination %'] = df_potential['Terminated']/df_potential['Employee ID']*100\n",
    "display(df_potential)"
   ]
  },
  {
   "cell_type": "code",
   "execution_count": null,
   "id": "314c0f67-f7ca-41b7-ac5c-c233d85bd5fd",
   "metadata": {},
   "outputs": [],
   "source": [
    "table = pd.pivot_table(df_final, values = 'Terminated', index = ['Potential'], columns =['Performance'], aggfunc = np.mean)\n",
    "table"
   ]
  },
  {
   "cell_type": "markdown",
   "id": "ff8e48a3-0e39-4493-ab98-ab2fd3822766",
   "metadata": {},
   "source": [
    "# Logistic Regression"
   ]
  },
  {
   "cell_type": "code",
   "execution_count": null,
   "id": "1cadf9a3-789e-4003-8e54-0578d3f14a67",
   "metadata": {},
   "outputs": [],
   "source": [
    "da.list_unique_values(df_final,['Potential'])"
   ]
  },
  {
   "cell_type": "code",
   "execution_count": null,
   "id": "55c104d8-4b78-4cb5-b51b-4e08f9c41d89",
   "metadata": {},
   "outputs": [],
   "source": [
    "df_final['Terminated'].value_counts()"
   ]
  },
  {
   "cell_type": "code",
   "execution_count": null,
   "id": "29086ce6-3715-48d1-a711-1f5a766c3d95",
   "metadata": {},
   "outputs": [],
   "source": [
    "df_final['Potential Cat'] = df_final['Potential'].map({'Too Early to Rank':'Too Early to Rank','Low':'Low Potential','Medium':'Medium Potential','High':'High Potential'})\n",
    "# df_final['performance_cat'] = df_final['Performance'].map({'Developing Contributor':'D','Exceptional Contributor':'E','Not Performing':'N','Successful Contributor':'S'})"
   ]
  },
  {
   "cell_type": "code",
   "execution_count": null,
   "id": "c49f37db-738a-4905-ba0b-17b6de17c8da",
   "metadata": {},
   "outputs": [],
   "source": [
    "df_merged_LReg = pd.DataFrame()\n",
    "\n",
    "market_bin = [-100,80,95,130,1000]\n",
    "market_bin_names = ['<80','80-100','100-130','>130']\n",
    "\n",
    "adj_bin = [-100,0.2,3,1000]\n",
    "adj_bin_names = ['<0.2','0.2-3','>3']\n",
    "\n",
    "df_final['Market Ratio Cat'] = pd.cut(df_final['Final Market Ratio'], bins = market_bin, labels = market_bin_names)\n",
    "df_final['Adjustment Ratio Cat'] = pd.cut(df_final['Adjustment Difference'], bins = adj_bin, labels = adj_bin_names)\n",
    "\n",
    "featureForLogReg = ['Market Ratio Cat','Adjustment Ratio Cat','Potential Cat','Performance']\n",
    "df_forClustering = df_final[featureForLogReg+['Terminated']+['Employee ID']]"
   ]
  },
  {
   "cell_type": "code",
   "execution_count": null,
   "id": "2de37809-5b8b-46fc-91ae-8375d8ed87d1",
   "metadata": {},
   "outputs": [],
   "source": [
    "df_forClustering['Terminated'].value_counts()"
   ]
  },
  {
   "cell_type": "code",
   "execution_count": null,
   "id": "5f88157d-a6fc-4686-afff-7690c82f355b",
   "metadata": {},
   "outputs": [],
   "source": [
    "df_forClustering"
   ]
  },
  {
   "cell_type": "code",
   "execution_count": null,
   "id": "58275481-f080-43fa-a75a-fc3acba6b54c",
   "metadata": {},
   "outputs": [],
   "source": [
    "for col in featureForLogReg:\n",
    "        df_forClustering = df_forClustering.join(pd.get_dummies(df_forClustering[col])) \n",
    "df_forClustering = df_forClustering.drop(featureForLogReg, axis=1)"
   ]
  },
  {
   "cell_type": "code",
   "execution_count": null,
   "id": "2ccc7e50-ae8a-4759-9c3a-991491770b28",
   "metadata": {},
   "outputs": [],
   "source": [
    "df_forClustering_train,df_forClustering_test = train_test_split(df_forClustering,train_size = 0.3, random_state = 100)\n",
    "df_forClustering_trainset,df_forClustering_validate = train_test_split(df_forClustering_train,train_size = 0.8, random_state = 101)\n",
    "\n",
    "df_forClustering_x = df_forClustering_trainset.drop(['Employee ID','Terminated'], axis = 1)\n",
    "df_forClustering_y = df_forClustering_trainset[['Terminated']]\n",
    "    \n",
    "clf = LogisticRegression(random_state=0).fit(df_forClustering_x, df_forClustering_y)"
   ]
  },
  {
   "cell_type": "code",
   "execution_count": null,
   "id": "7156b9da-639e-4b20-8d63-8506ffd28936",
   "metadata": {},
   "outputs": [],
   "source": [
    "clf.score(df_forClustering_validate.drop(['Employee ID','Terminated'], axis=1),\n",
    "          df_forClustering_validate['Terminated'])"
   ]
  },
  {
   "cell_type": "code",
   "execution_count": null,
   "id": "29a37b8d-01fc-4daf-a0ad-ed8b28d1b3cc",
   "metadata": {},
   "outputs": [],
   "source": [
    "df_forClustering.columns"
   ]
  },
  {
   "cell_type": "code",
   "execution_count": null,
   "id": "e8662d2d-6fef-4d3c-83fd-51b13c5b85aa",
   "metadata": {},
   "outputs": [],
   "source": [
    "prob = clf.predict_proba(df_forClustering.drop(['Employee ID','Terminated'], axis=1))\n",
    "prob = [x for (x,y) in prob]\n",
    "\n",
    "df_forClustering['Termination Probability'] = prob\n",
    "df_forClustering\n",
    "# listOfActiveColleagues[['Employee ID','teminationProbability']].to_csv('employee_level_teminationProbability.csv')"
   ]
  },
  {
   "cell_type": "code",
   "execution_count": null,
   "id": "c26fa702-c699-4755-a15b-7ac7990283f2",
   "metadata": {},
   "outputs": [],
   "source": [
    "df_forClustering_order = df_forClustering.sort_values(by =['Termination Probability'], ascending = False).reset_index()"
   ]
  },
  {
   "cell_type": "code",
   "execution_count": null,
   "id": "ea665b59-a831-4dbd-bcfc-0486d3e14469",
   "metadata": {},
   "outputs": [],
   "source": [
    "df_forClustering_order['Rank'] = pd.qcut(df_forClustering_order.index, 5, labels = False)"
   ]
  },
  {
   "cell_type": "code",
   "execution_count": null,
   "id": "7e858cbe-059a-4a60-bd8a-7a3dd0ce048d",
   "metadata": {},
   "outputs": [],
   "source": [
    "df_forClustering_order.groupby('Rank').agg({'Termination Probability':'min','Employee ID':'count'})"
   ]
  },
  {
   "cell_type": "code",
   "execution_count": null,
   "id": "efd14035-b7f1-49c3-86e1-be26063216b9",
   "metadata": {},
   "outputs": [],
   "source": [
    "df_forClustering_order.groupby('Rank').agg({'Termination Probability':'max','Employee ID':'count'})"
   ]
  },
  {
   "cell_type": "code",
   "execution_count": null,
   "id": "8284429a-d07b-40b4-8276-e09e6a80653b",
   "metadata": {},
   "outputs": [],
   "source": [
    "df_probability = df_forClustering_order.groupby(by =['Rank']).agg({'Employee ID':'count'})"
   ]
  },
  {
   "cell_type": "code",
   "execution_count": null,
   "id": "5c299172-9e2b-4059-bdfb-98c98e734229",
   "metadata": {},
   "outputs": [],
   "source": [
    "df_forClustering_order_rev = df_forClustering.sort_values('Termination Probability', ascending = True).reset_index()\n",
    "df_forClustering_order_rev"
   ]
  },
  {
   "cell_type": "code",
   "execution_count": null,
   "id": "07d37b35-e9f3-4d81-b3ea-d46bfaf2ac6e",
   "metadata": {},
   "outputs": [],
   "source": [
    "df_forClustering_order_rev['Rank'] = pd.qcut(df_forClustering_order_rev.index, 5, labels = False)\n",
    "df_forClustering_order_rev.groupby('Rank').agg({'Termination Probability':'min','Employee ID':'count'})"
   ]
  },
  {
   "cell_type": "code",
   "execution_count": null,
   "id": "8511670e-dfcb-4192-a49c-316c17832495",
   "metadata": {},
   "outputs": [],
   "source": [
    "df_forClustering_order_rev.groupby('Rank').agg({'Termination Probability':'max','Employee ID':'count'})"
   ]
  },
  {
   "cell_type": "code",
   "execution_count": null,
   "id": "b1bcf4d4-e1c8-40ae-8341-e0389a8395b7",
   "metadata": {
    "tags": []
   },
   "outputs": [],
   "source": [
    "df_forClustering_order_rev.to_csv('Probability of Termination.csv')"
   ]
  },
  {
   "cell_type": "markdown",
   "id": "74c2e917-2930-4c4c-88e4-3d6f6057a606",
   "metadata": {},
   "source": [
    "# june 20221"
   ]
  },
  {
   "cell_type": "code",
   "execution_count": null,
   "id": "51c278db-2346-4eb1-a249-942361df5f9a",
   "metadata": {
    "tags": []
   },
   "outputs": [],
   "source": [
    "df_june['Market Ratio Perc'] = df_june['Market Ratio']*100"
   ]
  },
  {
   "cell_type": "code",
   "execution_count": null,
   "id": "73e1c437-a88e-45fe-b9f7-b9e2c6f58c99",
   "metadata": {},
   "outputs": [],
   "source": [
    "df_june['adj'] = df_june['Total % of adjustment']*100"
   ]
  },
  {
   "cell_type": "code",
   "execution_count": null,
   "id": "dc455748-4b7c-4d26-b81d-1d19132e2465",
   "metadata": {},
   "outputs": [],
   "source": [
    "df_june['adj'].hist()"
   ]
  },
  {
   "cell_type": "code",
   "execution_count": null,
   "id": "bef518d5-9a3d-4005-9096-a9449993f3b3",
   "metadata": {},
   "outputs": [],
   "source": [
    "da.list_unique_values(df_june,['Potential'])"
   ]
  },
  {
   "cell_type": "code",
   "execution_count": null,
   "id": "4fc39fde-e443-40c2-a97b-6e08dabe1e5b",
   "metadata": {},
   "outputs": [],
   "source": [
    "market_bin = [-100,80,95,130,1000]\n",
    "market_bin_names = ['<80','80-100','100-130','>130']\n",
    "\n",
    "adj_bin = [-100,0.2,3,1000]\n",
    "adj_bin_names = ['<0.2','0.2-3','>3']\n",
    "\n",
    "df_june['Market Ratio Cat'] = pd.cut(df_june['Market Ratio Perc'], bins = market_bin, labels = market_bin_names)\n",
    "df_june['Adjustment Ratio Cat'] = pd.cut(df_june['adj'], bins = adj_bin, labels = adj_bin_names)\n",
    "\n",
    "df_june['Potential Cat'] = df_june['Potential'].map({1:'Too Early to Rank',2:'Low Potential',3:'Medium Potential',4:'High Potential'})\n",
    "\n",
    "featureForLogReg = ['Market Ratio Cat','Adjustment Ratio Cat','Potential Cat','Performance']\n",
    "df_forClustering_june = df_june[featureForLogReg+['Employee ID']]"
   ]
  },
  {
   "cell_type": "markdown",
   "id": "df3fe206-1a89-4975-a2a9-89114ac51798",
   "metadata": {
    "tags": []
   },
   "source": [
    "performance\n",
    "Performance\n",
    "- Developing Contributor\n",
    "- Exceptional Contributor\n",
    "- Not Performing\n",
    "- Successful Contributor\n",
    "\n",
    "Potential\n",
    "- High\n",
    "- Low\n",
    "- Medium\n",
    "- Too Early to Rank"
   ]
  },
  {
   "cell_type": "code",
   "execution_count": null,
   "id": "a634500d-f45f-4b93-8aee-e9f84a0ba11f",
   "metadata": {},
   "outputs": [],
   "source": [
    "for col in featureForLogReg:\n",
    "        df_forClustering_june = df_forClustering_june.join(pd.get_dummies(df_forClustering_june[col])) \n",
    "df_forClustering_june = df_forClustering_june.drop(featureForLogReg, axis=1)"
   ]
  },
  {
   "cell_type": "code",
   "execution_count": null,
   "id": "7c67fec9-67e0-4434-84c8-6ef6b887d86d",
   "metadata": {},
   "outputs": [],
   "source": [
    "prob = clf.predict_proba(df_forClustering_june.drop(['Employee ID'], axis=1))\n",
    "prob = [x for (x,y) in prob]\n",
    "\n",
    "df_forClustering_june['Termination Probability'] = prob\n",
    "df_forClustering_june"
   ]
  },
  {
   "cell_type": "code",
   "execution_count": null,
   "id": "1430391f-2335-487b-8b68-5a2b97a5236b",
   "metadata": {},
   "outputs": [],
   "source": [
    "df_forClustering_order_june = df_forClustering_june.sort_values(by =['Termination Probability'], ascending = False).reset_index()"
   ]
  },
  {
   "cell_type": "code",
   "execution_count": null,
   "id": "738ef8ac-a0b6-41f9-b069-0549b2f9d59b",
   "metadata": {},
   "outputs": [],
   "source": [
    "df_forClustering_order_june['Rank'] = pd.qcut(df_forClustering_order_june.index, 5, labels = False)"
   ]
  },
  {
   "cell_type": "code",
   "execution_count": null,
   "id": "0165a293-5ce8-4a14-82c8-6d8b46b93748",
   "metadata": {},
   "outputs": [],
   "source": [
    "df_forClustering_order_june.groupby('Rank').agg({'Termination Probability':'min','Employee ID':'count'})"
   ]
  },
  {
   "cell_type": "code",
   "execution_count": null,
   "id": "8e37abd8-a4cd-4d6e-9301-81cc0c42ed5c",
   "metadata": {},
   "outputs": [],
   "source": [
    "df_forClustering_order_june.groupby('Rank').agg({'Termination Probability':'max','Employee ID':'count'})"
   ]
  },
  {
   "cell_type": "code",
   "execution_count": null,
   "id": "56046924-c43f-4234-862b-736faacd638e",
   "metadata": {},
   "outputs": [],
   "source": [
    "df_probability_june = df_forClustering_order_june.groupby(by =['Rank']).agg({'Employee ID':'count'})"
   ]
  },
  {
   "cell_type": "code",
   "execution_count": null,
   "id": "e5f91f99-f025-4d38-92e2-21db353d0f8c",
   "metadata": {},
   "outputs": [],
   "source": [
    "df_forClustering_order_rev_june = df_forClustering_june.sort_values('Termination Probability', ascending = True).reset_index()\n",
    "df_forClustering_order_rev_june"
   ]
  },
  {
   "cell_type": "code",
   "execution_count": null,
   "id": "b73c7d70-9727-4fae-9e39-1d0d4d975091",
   "metadata": {},
   "outputs": [],
   "source": [
    "df_forClustering_order_rev_june['Rank'] = pd.qcut(df_forClustering_order_rev_june.index, 5, labels = False)\n",
    "df_forClustering_order_rev_june.groupby('Rank').agg({'Termination Probability':'min','Employee ID':'count'})"
   ]
  },
  {
   "cell_type": "code",
   "execution_count": null,
   "id": "8ce917d5-384f-4ae9-8d36-775a317f3e3b",
   "metadata": {},
   "outputs": [],
   "source": [
    "df_forClustering_order_rev_june"
   ]
  },
  {
   "cell_type": "code",
   "execution_count": null,
   "id": "a1c71dd0-915b-414f-96e3-d5211452953b",
   "metadata": {},
   "outputs": [],
   "source": [
    "df_forClustering_order_rev_june.groupby('Rank').agg({'Termination Probability':'max','Employee ID':'count'})"
   ]
  },
  {
   "cell_type": "code",
   "execution_count": null,
   "id": "786b0282-cd73-4b26-8f96-0b442b607f94",
   "metadata": {
    "tags": []
   },
   "outputs": [],
   "source": [
    "df_forClustering_order_rev_june.to_csv('Probability of Termination June.csv')"
   ]
  },
  {
   "cell_type": "code",
   "execution_count": null,
   "id": "e5fb163f-10d5-4dbc-9ea5-b986752b078b",
   "metadata": {},
   "outputs": [],
   "source": [
    "df_forClustering_order_rev_june"
   ]
  },
  {
   "cell_type": "markdown",
   "id": "f04d4d47-98cf-4981-bc3c-de0033f7ec04",
   "metadata": {},
   "source": [
    "# Cost Analysis"
   ]
  },
  {
   "cell_type": "code",
   "execution_count": null,
   "id": "0aebbda2-452e-48e9-818d-5da54d6295bb",
   "metadata": {},
   "outputs": [],
   "source": [
    "new_june[['Scenario 1', 'Scenario 2',\n",
    "       'Scenario 3']]"
   ]
  },
  {
   "cell_type": "code",
   "execution_count": null,
   "id": "825bb18b-27ed-4653-84d9-80c5687c3d92",
   "metadata": {},
   "outputs": [],
   "source": [
    "Profile.columns"
   ]
  },
  {
   "cell_type": "code",
   "execution_count": null,
   "id": "34680b9a-1189-4f3c-8294-86a9d2a65fe3",
   "metadata": {},
   "outputs": [],
   "source": [
    "df.merge(df_forClustering_order_rev, on = 'Employee ID')"
   ]
  },
  {
   "cell_type": "raw",
   "id": "9dad16cb-ce14-428a-a2f0-8f56e629b15c",
   "metadata": {},
   "source": [
    "new_june.columns"
   ]
  },
  {
   "cell_type": "raw",
   "id": "c2b96e01-dbd2-46fe-9d9e-7148918afb06",
   "metadata": {},
   "source": [
    "june_merged = new_june.merge(df_forClustering_order_rev_june, on = 'Employee ID')\n",
    "june_merged['Management Board']"
   ]
  },
  {
   "cell_type": "code",
   "execution_count": null,
   "id": "081264dc-09e8-4989-bd25-290a7b257634",
   "metadata": {},
   "outputs": [],
   "source": [
    "feb_merged = df.merge(df_forClustering_order_rev, on = 'Employee ID')"
   ]
  },
  {
   "cell_type": "code",
   "execution_count": null,
   "id": "e504b0c0-0647-43b0-8bdc-e40abd8a1f52",
   "metadata": {},
   "outputs": [],
   "source": [
    "feb_merged[['Adjustment_Diff','Current Annualized Rate','Received Adjustment?','Final EIB Adjustment',\n",
    "       'Final EIB Annualized Salary']]"
   ]
  },
  {
   "cell_type": "code",
   "execution_count": null,
   "id": "dd5a4ff1-1b6a-4615-b255-b26048aca960",
   "metadata": {},
   "outputs": [],
   "source": [
    "feb_merged['Adjustment_Diff'] = np.where(feb_merged['Adjustment_Diff'].isna(), 0,feb_merged['Adjustment_Diff'])\n",
    "feb_merged['% Salary Adjustment Diff'] = ((feb_merged['Final EIB Annualized Salary'] - feb_merged['Current Annualized Rate'])/feb_merged['Current Annualized Rate'])*100"
   ]
  },
  {
   "cell_type": "markdown",
   "id": "abe8b026-6179-4a18-b756-8fc9a9993055",
   "metadata": {},
   "source": [
    "#### Ask 4"
   ]
  },
  {
   "cell_type": "code",
   "execution_count": null,
   "id": "2b3e05de-38fa-4f44-b007-ff48854da3c6",
   "metadata": {},
   "outputs": [],
   "source": [
    "feb_merged[['Employee ID','Received Adjustment?','Rank']].to_excel('Feb Colleagues with Rank and adjustment.xlsx')"
   ]
  },
  {
   "cell_type": "markdown",
   "id": "0c0a9560-130b-41f6-b22c-3d090ca91ca4",
   "metadata": {},
   "source": [
    "#### Ask 3"
   ]
  },
  {
   "cell_type": "code",
   "execution_count": null,
   "id": "5fa0b1c9-7e9a-4e4c-84e0-dfb31596e1f0",
   "metadata": {},
   "outputs": [],
   "source": [
    "mapper_ask4 = {'Employee ID':'# of Employees'}\n",
    "\n",
    "ask_4 = feb_merged.groupby(['Rank','Terminated','Received Adjustment?'])\\\n",
    ".agg({'Employee ID':'count', '% Salary Adjustment Diff':[np.mean,np.min,np.max]}).reset_index()\\\n",
    ".rename(columns = mapper_ask4)\n",
    "\n",
    "ask_4.to_excel('Feb ranking, termination and salary adj.xlsx')"
   ]
  },
  {
   "cell_type": "code",
   "execution_count": null,
   "id": "a8d290bc-04cd-4406-bd2f-838053c8984d",
   "metadata": {},
   "outputs": [],
   "source": [
    "ask_4"
   ]
  },
  {
   "cell_type": "code",
   "execution_count": null,
   "id": "11788ebc-e057-420a-9f12-0aa008e288c4",
   "metadata": {},
   "outputs": [],
   "source": [
    "feb_merged.columns"
   ]
  },
  {
   "cell_type": "code",
   "execution_count": null,
   "id": "a9cd5462-b17a-4187-93e8-698ba050f3b4",
   "metadata": {},
   "outputs": [],
   "source": [
    "june_merged['% Scenario 1 Increase'] = (june_merged['Scenario 1'])/june_merged['Current Annualized Rate']*100\n",
    "june_merged['% Scenario 2 Increase'] = (june_merged['Scenario 2'])/june_merged['Current Annualized Rate']*100\n",
    "june_merged['% Scenario 3 Increase'] = (june_merged['Scenario 3'])/june_merged['Current Annualized Rate']*100"
   ]
  },
  {
   "cell_type": "code",
   "execution_count": null,
   "id": "56695601-73c7-4012-a755-38d4146f9986",
   "metadata": {},
   "outputs": [],
   "source": [
    "final_merge = june_merged.merge(feb_merged, on = 'Employee ID')\n",
    "final_merge['% Adjustment_Diff'] = final_merge['Adjustment_Diff']*100"
   ]
  },
  {
   "cell_type": "code",
   "execution_count": null,
   "id": "19c62972-99f4-4834-9a6d-8918379f913f",
   "metadata": {},
   "outputs": [],
   "source": [
    "final_merge['% Final EIB Adjustment'] = final_merge['Final EIB Adjustment']/final_merge['Current Annualized Rate_y']*100"
   ]
  },
  {
   "cell_type": "code",
   "execution_count": null,
   "id": "750d2178-2a0d-4e0a-b749-b397d5abeb84",
   "metadata": {},
   "outputs": [],
   "source": [
    "final_merge['% Feb Increase'] = (final_merge['Adjustment_Diff'])/final_merge['Current Annualized Rate_x']*100"
   ]
  },
  {
   "cell_type": "code",
   "execution_count": null,
   "id": "2b85ba7e-7195-4df4-8599-5095a9e7d047",
   "metadata": {},
   "outputs": [],
   "source": [
    "final_merge['% Scenario 1 Increase'] = (final_merge['Scenario 1'])/final_merge['Current Annualized Rate_x']*100\n",
    "final_merge['% Scenario 2 Increase'] = (final_merge['Scenario 2'])/final_merge['Current Annualized Rate_x']*100\n",
    "final_merge['% Scenario 3 Increase'] = (final_merge['Scenario 3'])/final_merge['Current Annualized Rate_x']*100"
   ]
  },
  {
   "cell_type": "code",
   "execution_count": null,
   "id": "bd130875-0dcb-4342-be05-c957eeab2834",
   "metadata": {},
   "outputs": [],
   "source": [
    "scenario_bin = [-100,0.1,3,8,1000]\n",
    "scenario_bin_names = ['>=0','>0 and <=3','>3 and <=8','>8']"
   ]
  },
  {
   "cell_type": "code",
   "execution_count": null,
   "id": "eb9ef3ba-608a-4e07-8021-1181cf4084d8",
   "metadata": {},
   "outputs": [],
   "source": [
    "mapping = {'Management Board_x':'Management Board','Rank_y':'Feb Termination Rank',\n",
    "                   'Employee ID':'# of Colleagues'}\n",
    "\n",
    "final_merge['% Final EIB Adjustment Cat'] = pd.cut(final_merge['% Final EIB Adjustment'], bins = scenario_bin, labels = scenario_bin_names)\n",
    "df_agg_feb_adjust = final_merge.groupby(['Management Board_x','Rank_y','% Final EIB Adjustment Cat'])\\\n",
    ".agg({'Employee ID':'count'}).reset_index()\\\n",
    ".rename(columns = mapping)\n",
    "df_agg_feb_adjust.to_excel('Termination Rank per Management board - Feb adjustment.xlsx')"
   ]
  },
  {
   "cell_type": "code",
   "execution_count": null,
   "id": "2fd6a9a2-be4b-4c40-ac80-e92192cd7079",
   "metadata": {},
   "outputs": [],
   "source": [
    "df_agg_feb_adjust"
   ]
  },
  {
   "cell_type": "code",
   "execution_count": null,
   "id": "fd2d7bca-fabc-4bb1-a016-fa58c959da62",
   "metadata": {},
   "outputs": [],
   "source": [
    "final_merge['Scenario 1 Increase Cat'] = pd.cut(final_merge['% Scenario 1 Increase'], bins = scenario_bin, labels = scenario_bin_names)"
   ]
  },
  {
   "cell_type": "code",
   "execution_count": null,
   "id": "97cb5b43-9bdc-4be8-a2b8-3f4f4538e69c",
   "metadata": {},
   "outputs": [],
   "source": [
    "final_merge['Scenario 2 Increase Cat'] = pd.cut(final_merge['% Scenario 2 Increase'], bins = scenario_bin, labels = scenario_bin_names)"
   ]
  },
  {
   "cell_type": "code",
   "execution_count": null,
   "id": "3f8f9e49-22c3-442f-b9d9-e1d04215871f",
   "metadata": {},
   "outputs": [],
   "source": [
    "final_merge['Scenario 3 Increase Cat'] = pd.cut(final_merge['% Scenario 3 Increase'], bins = scenario_bin, labels = scenario_bin_names)"
   ]
  },
  {
   "cell_type": "code",
   "execution_count": null,
   "id": "d9e0e58f-3408-44d2-94eb-7685a5f21018",
   "metadata": {},
   "outputs": [],
   "source": [
    "mapping_1 = {'Management Board_x':'Management Board','Rank_x':'June Termination Rank',\n",
    "                   'Employee ID':'# of Colleagues'}\n",
    "\n",
    "df_agg_scenaro_1 = final_merge.groupby(['Management Board_x','Rank_x','Scenario 1 Increase Cat'])\\\n",
    ".agg({'Employee ID':'count'}).reset_index()\\\n",
    ".rename(columns = mapping_1)\n",
    "df_agg_scenaro_1.to_excel('Termination Rank per Management board - Scenario 1.xlsx')"
   ]
  },
  {
   "cell_type": "code",
   "execution_count": null,
   "id": "de054d1c-87f8-43b2-b78c-7eec0af84b98",
   "metadata": {},
   "outputs": [],
   "source": [
    "df_agg_scenaro_1"
   ]
  },
  {
   "cell_type": "code",
   "execution_count": null,
   "id": "3cf2798b-286b-4ddc-91c4-71cb2e833887",
   "metadata": {},
   "outputs": [],
   "source": [
    "df_agg_scenaro_2"
   ]
  },
  {
   "cell_type": "code",
   "execution_count": null,
   "id": "c4f9b0e5-7886-4bb0-937f-bd3b6ada880a",
   "metadata": {},
   "outputs": [],
   "source": [
    "df_agg_scenaro_2 = final_merge.groupby(['Management Board_x','Rank_x','Scenario 2 Increase Cat'])\\\n",
    ".agg({'Employee ID':'count'}).reset_index()\\\n",
    ".rename(columns = mapping_1)\n",
    "\n",
    "df_agg_scenaro_2.to_excel('Termination Rank per Management board - Scenario 2.xlsx')\n",
    "\n",
    "df_agg_scenaro_3 = final_merge.groupby(['Management Board_x','Rank_x','Scenario 3 Increase Cat'])\\\n",
    ".agg({'Employee ID':'count'}).reset_index()\\\n",
    ".rename(columns = mapping_1)\n",
    "df_agg_scenaro_3.to_excel('Termination Rank per Management board - Scenario 3.xlsx')"
   ]
  },
  {
   "cell_type": "code",
   "execution_count": null,
   "id": "c4658251-294e-4669-848b-9438cfb23cb2",
   "metadata": {},
   "outputs": [],
   "source": [
    "df_agg = final_merge.groupby(['Management Board_x','Rank_x']).agg({'Employee ID':'count','% Scenario 1 Increase':'mean',\n",
    "                                                       '% Scenario 2 Increase':'mean',\n",
    "                                                       '% Scenario 3 Increase':'mean',\n"
   ]
  },
  {
   "cell_type": "code",
   "execution_count": null,
   "id": "ab7c1bd8-c403-4a6a-945e-3867e1950c6b",
   "metadata": {},
   "outputs": [],
   "source": [
    "\n"
   ]
  },
  {
   "cell_type": "code",
   "execution_count": null,
   "id": "0e7bdfa4-54f2-4346-a608-00b228437ecc",
   "metadata": {},
   "outputs": [],
   "source": [
    "df_clustered_merge = df_forClustering_order_rev_june.merge(df_forClustering_order_rev, on = 'Employee ID')"
   ]
  },
  {
   "cell_type": "code",
   "execution_count": null,
   "id": "07341fe4-e3c9-4264-b34a-8130a8d37071",
   "metadata": {},
   "outputs": [],
   "source": [
    "management, rank, # of colleague in rank, increase, salary, "
   ]
  },
  {
   "cell_type": "code",
   "execution_count": null,
   "id": "3f24da12-98f8-4c04-a7c5-c934f30bfea3",
   "metadata": {},
   "outputs": [],
   "source": [
    "df_june.merge(df_clustered_merge, on = 'Employee ID').groupby(['Management Board','Rank']).gg({'Employee ID':'count','Current Annualized Rate':'mean',\n",
    "                  'Final EIB Adjustment':'mean'})"
   ]
  },
  {
   "cell_type": "code",
   "execution_count": null,
   "id": "4efdd12d-98b7-4c06-80a3-554b4a8252a6",
   "metadata": {
    "tags": []
   },
   "outputs": [],
   "source": [
    "Profile = df.merge(df_forClustering_order_rev, on = 'Employee ID')\n",
    "Profile"
   ]
  },
  {
   "cell_type": "code",
   "execution_count": null,
   "id": "d92bb6a6-0ba6-40ed-99c7-406de3ad7181",
   "metadata": {},
   "outputs": [],
   "source": [
    "Profile_agg = Profile.groupby('Management Board')\\\n",
    "            .agg({'Terminated':'mean',\n",
    "                  'Termination Probability':'mean',\n",
    "                  'Current Annualized Rate':'mean',\n",
    "                  'Final EIB Adjustment':'mean'})\\\n",
    "            .sort_values(by = ['Termination Probability'],ascending = False)\\\n",
    "            .rename(columns = {'Terminated':'Profile Termination Rate',\n",
    "                              'Final EIB Adjustment':'Feb EIB Adjustment, Average',\n",
    "                              'Termination Probability':'Feb Termination Probability, Average',\n",
    "                              'Current Annualized Rate':'Feb Annualized Rate, Average'}).reset_index()\n",
    "Profile_agg"
   ]
  },
  {
   "cell_type": "code",
   "execution_count": null,
   "id": "d3d17f69-8bc2-442b-b737-699bb7eb8a80",
   "metadata": {},
   "outputs": [],
   "source": [
    "Profile_june = df_june.merge(df_forClustering_order_rev_june, on = 'Employee ID')\\\n",
    "                .groupby(['Management Board','Rank'])\\\n",
    "                .agg({'Employee ID':'count','Termination Probability':'mean','Current Annualized Rate':'mean'})\\\n",
    "                .rename(columns = {'Employee ID':'Current # of Colleagues'})\\\n",
    "                .sort_values(by = ['Termination Probability'],ascending = False)\\\n",
    "                .reset_index()\n",
    "Profile_june"
   ]
  },
  {
   "cell_type": "code",
   "execution_count": null,
   "id": "8d91f102-fbab-4819-827d-f551dadc349d",
   "metadata": {},
   "outputs": [],
   "source": [
    "Profile_diff = Profile_june.merge(Profile_agg, on = ['Management Board'])\\\n",
    "                .rename(columns = {'Termination Probability_x':'Current Termination Probability',\n",
    "                            'Current Annualized Rate_x':'Current Annualized Rate',\n",
    "                            'Final Adjustment on Feb':'Final Adjustment on Feb'})\n",
    "\n",
    "Profile_diff['Salary Increase for Profile $'] = (Profile_diff['Current Annualized Rate'] - \\\n",
    "                                                    Profile_diff['Feb Annualized Rate, Average'])\n",
    "\n",
    "Profile_diff['% Salary Increase for Profile'] = (Profile_diff['Current Annualized Rate'] - \\\n",
    "                                                    Profile_diff['Feb Annualized Rate, Average'])/\\\n",
    "                                                    Profile_diff['Current Annualized Rate']*100\n",
    "\n",
    "Profile_diff"
   ]
  },
  {
   "cell_type": "code",
   "execution_count": null,
   "id": "2166f72a-994e-4e2a-bc23-4970cbe2e178",
   "metadata": {},
   "outputs": [],
   "source": [
    "Profile_diff[Profile_diff['Pro`bfile Termination Rate'] > 0].sort_values(by =['Termination Probability','% Salary Increase for Profile'],ascending = False).to_excel('Management board termination probability.xlsx')"
   ]
  },
  {
   "cell_type": "code",
   "execution_count": null,
   "id": "2c316a60-b26c-4cf1-b5f1-983d14a59f68",
   "metadata": {},
   "outputs": [],
   "source": []
  },
  {
   "cell_type": "code",
   "execution_count": null,
   "id": "8666ee26-bb5d-478e-bfdb-bccbbfc50bbf",
   "metadata": {
    "tags": []
   },
   "outputs": [],
   "source": [
    "Profile = df.merge(df_forClustering_order_rev, on = 'Employee ID')"
   ]
  },
  {
   "cell_type": "code",
   "execution_count": null,
   "id": "a0761194-0bf1-4602-b824-712a8f855a58",
   "metadata": {},
   "outputs": [],
   "source": [
    "Profile_agg = Profile.groupby('Management Board')\\\n",
    "            .agg({'Terminated':'mean',\n",
    "                  'Termination Probability':'mean',\n",
    "                  'Current Annualized Rate':'mean',\n",
    "                  'Final EIB Adjustment':'mean'})\\\n",
    "            .sort_values(by = ['Termination Probability'],ascending = False)\\\n",
    "            .rename(columns = {'Terminated':'Profile Termination Rate',\n",
    "                              'Final EIB Adjustment':'Feb EIB Adjustment, Average',\n",
    "                              'Termination Probability':'Feb Termination Probability, Average',\n",
    "                              'Current Annualized Rate':'Feb Annualized Rate, Average'}).reset_index()\n",
    "Profile_agg"
   ]
  },
  {
   "cell_type": "code",
   "execution_count": null,
   "id": "3759b9f6-a357-4d17-b4b0-29138a25e100",
   "metadata": {},
   "outputs": [],
   "source": [
    "Profile_june = df_june.merge(df_forClustering_order_rev_june, on = 'Employee ID')\\\n",
    "                .groupby(['Management Board','Rank'])\\\n",
    "                .agg({'Employee ID':'count','Termination Probability':'mean','Current Annualized Rate':'mean'})\\\n",
    "                .rename(columns = {'Employee ID':'Current # of Colleagues'})\\\n",
    "                .sort_values(by = ['Termination Probability'],ascending = False)\\\n",
    "                .reset_index()\n",
    "Profile_june"
   ]
  },
  {
   "cell_type": "code",
   "execution_count": null,
   "id": "3dd18772-dc52-492b-8a35-c8efa2d5addf",
   "metadata": {},
   "outputs": [],
   "source": [
    "Profile_diff = Profile_june.merge(Profile_agg, on = ['Management Board'])\\\n",
    "                .rename(columns = {'Termination Probability_x':'Current Termination Probability',\n",
    "                            'Current Annualized Rate_x':'Current Annualized Rate',\n",
    "                            'Final Adjustment on Feb':'Final Adjustment on Feb'})\n",
    "\n",
    "Profile_diff['Salary Increase for Profile $'] = (Profile_diff['Current Annualized Rate'] - \\\n",
    "                                                    Profile_diff['Feb Annualized Rate, Average'])\n",
    "\n",
    "Profile_diff['% Salary Increase for Profile'] = (Profile_diff['Current Annualized Rate'] - \\\n",
    "                                                    Profile_diff['Feb Annualized Rate, Average'])/\\\n",
    "                                                    Profile_diff['Current Annualized Rate']*100\n",
    "\n",
    "Profile_diff"
   ]
  },
  {
   "cell_type": "code",
   "execution_count": null,
   "id": "22e5e63e-b345-457d-a4e9-6c533056b516",
   "metadata": {},
   "outputs": [],
   "source": [
    "Profile_diff[Profile_diff['Pro`bfile Termination Rate'] > 0].sort_values(by =['Termination Probability','% Salary Increase for Profile'],ascending = False).to_excel('Management board termination probability.xlsx')"
   ]
  },
  {
   "cell_type": "code",
   "execution_count": null,
   "id": "f3ee5260-94de-416b-a34a-c63cd7cfaa60",
   "metadata": {},
   "outputs": [],
   "source": [
    "how many # colleague # count per adj cat"
   ]
  },
  {
   "cell_type": "code",
   "execution_count": null,
   "id": "cc5c1cf5-cc55-4e1f-80bd-8bc73ce97234",
   "metadata": {},
   "outputs": [],
   "source": [
    "how many supposed get"
   ]
  },
  {
   "cell_type": "code",
   "execution_count": null,
   "id": "fa288c42-39bf-4a2f-afc5-7f439c79baac",
   "metadata": {},
   "outputs": [],
   "source": []
  },
  {
   "cell_type": "markdown",
   "id": "dfdaa121-4c26-476f-af44-500f1431a53a",
   "metadata": {},
   "source": [
    "#### Ask 1: june add rank"
   ]
  },
  {
   "cell_type": "code",
   "execution_count": null,
   "id": "683a794a-6996-42a4-956e-7757bfa7c239",
   "metadata": {},
   "outputs": [],
   "source": [
    "June_Rank = new_june.merge(df_forClustering_order_rev_june[['Rank','Employee ID']], on = 'Employee ID')\n",
    "June_Rank.to_excel('June Adjument plus Rank.xlsx')"
   ]
  },
  {
   "cell_type": "markdown",
   "id": "fe9a70f0-f425-4305-a72b-11dc21cdae93",
   "metadata": {},
   "source": [
    "#### Ask 2 : Active vs terminated in each rank"
   ]
  },
  {
   "cell_type": "code",
   "execution_count": null,
   "id": "096769f1-5049-4138-ba75-4d20a690dc0f",
   "metadata": {},
   "outputs": [],
   "source": [
    "df_colleague.shape"
   ]
  },
  {
   "cell_type": "raw",
   "id": "f80d11b0-c292-4299-89d8-a6c9fac1af76",
   "metadata": {},
   "source": [
    "df_colleague['Terminated'] = np.where(df_colleague['Terminated'] == 'Yes', 1, 0)"
   ]
  },
  {
   "cell_type": "code",
   "execution_count": null,
   "id": "c8a40cea-a0ef-4b54-815b-d57ed28dc29f",
   "metadata": {},
   "outputs": [],
   "source": [
    "da.list_unique_values(df_colleague,['Terminated'])"
   ]
  },
  {
   "cell_type": "code",
   "execution_count": null,
   "id": "6dc903b9-ca03-405f-a32e-5c4c25c3fb0f",
   "metadata": {},
   "outputs": [],
   "source": [
    "df_colleague['Terminated'].value_counts()"
   ]
  },
  {
   "cell_type": "code",
   "execution_count": null,
   "id": "fca19eab-708c-4711-8ddf-dc9d2de3ec4b",
   "metadata": {},
   "outputs": [],
   "source": [
    "filter_term_cat = (df_colleague['Termination Category'] != 'Involuntary')\n",
    "df_colleague_new = df_colleague[filter_term_cat]"
   ]
  },
  {
   "cell_type": "code",
   "execution_count": null,
   "id": "feb4ba1a-9436-403b-964a-7e9c66ab35a2",
   "metadata": {},
   "outputs": [],
   "source": [
    "df_colleague_new['Terminated'].value_counts()"
   ]
  },
  {
   "cell_type": "raw",
   "id": "f48c50cd-dc0c-4ba4-9dad-7d04f21e9d08",
   "metadata": {},
   "source": [
    "df_colleague_new[df_colleague_new['Terminated'] == 0].shape"
   ]
  },
  {
   "cell_type": "code",
   "execution_count": null,
   "id": "76b5e34d-da6e-4d45-8fdb-35eff5a526a1",
   "metadata": {},
   "outputs": [],
   "source": [
    "termination_filter = df_colleague_new['Termination Date'] >= '2022-02-01'\n",
    "active_filter = df_colleague_new['Terminated'].isna()"
   ]
  },
  {
   "cell_type": "code",
   "execution_count": null,
   "id": "dd912941-e9d6-412d-90bc-868dea1eabf7",
   "metadata": {},
   "outputs": [],
   "source": [
    "Terminated_colleague = df_colleague_new[termination_filter] \n",
    "Active_colleague = df_colleague_new[active_filter]"
   ]
  },
  {
   "cell_type": "code",
   "execution_count": null,
   "id": "78533826-49d6-4429-888d-892b1964eee3",
   "metadata": {},
   "outputs": [],
   "source": [
    "print(Terminated_colleague.shape)\n",
    "print(Active_colleague.shape)"
   ]
  },
  {
   "cell_type": "code",
   "execution_count": null,
   "id": "abc528d9-a79c-45d1-b1f4-76b3442b612c",
   "metadata": {},
   "outputs": [],
   "source": [
    "colleague_final = pd.concat([Terminated_colleague,Active_colleague])"
   ]
  },
  {
   "cell_type": "code",
   "execution_count": null,
   "id": "8f55f99d-7a76-4685-8ee5-c1d26c4f5aec",
   "metadata": {},
   "outputs": [],
   "source": [
    "colleague_final.shape"
   ]
  },
  {
   "cell_type": "code",
   "execution_count": null,
   "id": "9920b6cf-24f8-4eb0-b5f4-033261bf6662",
   "metadata": {},
   "outputs": [],
   "source": [
    "June_col_merged = June_Rank.merge(colleague_final[['ID - Win','Terminated','Termination Date']], left_on = 'Employee ID', right_on = 'ID - Win', how = 'left')"
   ]
  },
  {
   "cell_type": "code",
   "execution_count": null,
   "id": "fa2e080e-5338-446a-ade5-f74d559f701d",
   "metadata": {},
   "outputs": [],
   "source": [
    "June_col_merged['Terminated new'] = np.where(June_col_merged['Terminated'] == 'Yes', 1, 0)"
   ]
  },
  {
   "cell_type": "code",
   "execution_count": null,
   "id": "c81a1c98-d46f-4ae4-bdd5-c7a5ee052226",
   "metadata": {},
   "outputs": [],
   "source": [
    "June_col_merged.shape"
   ]
  },
  {
   "cell_type": "code",
   "execution_count": null,
   "id": "2f700577-6fd8-4fe1-920e-e6fc694df66f",
   "metadata": {},
   "outputs": [],
   "source": [
    "da.list_unique_values(June_col_merged,['Terminated new'])"
   ]
  },
  {
   "cell_type": "code",
   "execution_count": null,
   "id": "0dd983b2-0ded-4e02-85a3-e255d6ba6d9c",
   "metadata": {},
   "outputs": [],
   "source": [
    "June_col_merged,['Terminated']"
   ]
  },
  {
   "cell_type": "code",
   "execution_count": null,
   "id": "e2d9e056-c6c0-4894-be76-09c11e932166",
   "metadata": {},
   "outputs": [],
   "source": [
    "June_col_merged['Terminated new'].value_counts()"
   ]
  },
  {
   "cell_type": "code",
   "execution_count": null,
   "id": "e958632c-8aee-49ca-8adb-73d83995b5f9",
   "metadata": {},
   "outputs": [],
   "source": [
    "mapper_3 = {'Employee ID':'# of Colleagues'}\n",
    "\n",
    "ask_2 = June_col_merged.groupby(by = ['Rank','Terminated new'])['Employee ID'].count()\\\n",
    ".reset_index().rename(columns = mapper_3)\n",
    "\n",
    "\n",
    "ask_2.to_excel('Terminated and active per rank.xlsx')"
   ]
  },
  {
   "cell_type": "code",
   "execution_count": null,
   "id": "30de2b17-e5c9-4f32-bd6f-04f8dfd86dcf",
   "metadata": {},
   "outputs": [],
   "source": [
    "ask_2"
   ]
  },
  {
   "cell_type": "code",
   "execution_count": null,
   "id": "33f6459d-3626-43d4-86c4-0139787a97c2",
   "metadata": {},
   "outputs": [],
   "source": [
    "df_forClustering.sort_values(['Termination Probability'], ascending = False)[['Termination Probability','Employee ID', 'Terminated']].to_csv('termination Probability.csv')"
   ]
  },
  {
   "cell_type": "code",
   "execution_count": null,
   "id": "0bc55bb3-c821-4353-99d7-01f9d920835d",
   "metadata": {
    "tags": []
   },
   "outputs": [],
   "source": [
    "y_true = df_forClustering_validate['Terminated']\n",
    "y_predicted = clf.predict(df_forClustering_validate.drop(['Employee ID','Terminated'], axis=1))\n",
    "\n",
    "tn, fp, fn, tp =  confusion_matrix(y_true,y_predicted).ravel()"
   ]
  },
  {
   "cell_type": "code",
   "execution_count": null,
   "id": "059045c9-3195-4fc3-81c5-ed850741dfcf",
   "metadata": {},
   "outputs": [],
   "source": [
    "df_forClustering_validate['Terminated'].value_counts()"
   ]
  },
  {
   "cell_type": "code",
   "execution_count": null,
   "id": "db312b46-cf20-4d77-b568-f33350df2fff",
   "metadata": {},
   "outputs": [],
   "source": [
    "dicCofVal = dict()\n",
    "for x in range(len(df_forClustering_x.columns)):\n",
    "    dicCofVal[df_forClustering_x.columns[x]] = list(clf.coef_[0])[x]\n",
    "\n",
    "len(df_forClustering_x.columns)\n",
    "\n",
    "df_coefValues = pd.DataFrame(columns = df_forClustering_x.columns)\n",
    "df_coefValues = df_coefValues.append(dicCofVal, ignore_index=True).T\n",
    "df_coefValues.columns = ['coef']\n",
    "\n",
    "df_coefValues['odds'] = df_coefValues['coef'].apply(np.exp)\n",
    "df_coefValues['prob'] = df_coefValues['odds'] /(1+df_coefValues['odds'])\n",
    "\n",
    "featureClass = list()\n",
    "for x in df_coefValues.index:\n",
    "    foundMatch = False\n",
    "    for feature in featureForLogReg:\n",
    "        if feature in df_final.columns:\n",
    "            if x in df_final[feature].unique():\n",
    "                featureClass.append(feature)\n",
    "                foundMatch = True\n",
    "\n",
    "        if feature in df_forClustering.columns:\n",
    "            if x in df_forClustering[feature].unique():\n",
    "                featureClass.append(feature)\n",
    "                foundMatch = True\n",
    "\n",
    "    if not foundMatch:\n",
    "        featureClass.append('NotFound')\n",
    "\n",
    "df_coefValues['featureClass'] = featureClass\n"
   ]
  },
  {
   "cell_type": "code",
   "execution_count": null,
   "id": "42653a1f-0c04-42b5-91dd-41dd9cf347b8",
   "metadata": {},
   "outputs": [],
   "source": [
    "df_coefValues.index"
   ]
  },
  {
   "cell_type": "code",
   "execution_count": null,
   "id": "6b0be3d2-903f-49c6-b9bc-b735b29f6b81",
   "metadata": {},
   "outputs": [],
   "source": [
    "df_coefValues.sort_values(by = ['coef'], ascending = False)[0:3].rename({'<0.2':'Less than 0.2% Salary Adjustment','<80':'Less than 80% Market Ratio'})"
   ]
  },
  {
   "cell_type": "code",
   "execution_count": null,
   "id": "0d8dd09b-1506-46e6-8437-e55a157d6465",
   "metadata": {},
   "outputs": [],
   "source": [
    "df_coefValues.sort_values(by = ['coef'], ascending = False)[-3:].rename({'<0.2':'Less than 0.2% Salary Adjustment','<80':'Less than 80% Market Ratio'})"
   ]
  },
  {
   "cell_type": "code",
   "execution_count": null,
   "id": "5018c09b-931b-4c40-bf9e-9b3f1a19fca7",
   "metadata": {},
   "outputs": [],
   "source": [
    "fig = plt.figure()\n",
    "ax = fig.add_axes([0,0,1,1])\n",
    "langs = positive_corr.index\n",
    "students = positive_corr['coef']\n",
    "ax.bar(langs,students)\n",
    "plt.show()"
   ]
  },
  {
   "cell_type": "markdown",
   "id": "92f30e2f-26b4-4329-8c67-6c5c336ed133",
   "metadata": {},
   "source": [
    "# Termination Proability vs features"
   ]
  },
  {
   "cell_type": "code",
   "execution_count": null,
   "id": "009d839e-41bf-432c-95ba-a56f6ee080e7",
   "metadata": {},
   "outputs": [],
   "source": [
    "df_active = df_final.merge(listOfActiveColleagues[['Employee ID','Termination Probability']], on = 'Employee ID')"
   ]
  },
  {
   "cell_type": "code",
   "execution_count": null,
   "id": "e189c547-5cbd-499a-b0b9-9f583aef8860",
   "metadata": {},
   "outputs": [],
   "source": [
    "plt.plot(np.sort(listOfActiveColleagues['Termination Probability'])[::-1])"
   ]
  },
  {
   "cell_type": "code",
   "execution_count": null,
   "id": "2deb1c79-cd6f-49ec-8dca-a60cd65d90ce",
   "metadata": {},
   "outputs": [],
   "source": [
    "probability_bin = [-100,0.2,0.4,0.6,0.8,100]\n",
    "probability_bin_names = ['<20','20-40','40-60','60-80','>']\n",
    "df_final['adj_cat'] = pd.cut(df_final['Adjustment Difference'], bins = adj_bin, labels = adj_bin_names)"
   ]
  },
  {
   "cell_type": "code",
   "execution_count": null,
   "id": "ba7d0686-9708-4923-a316-81142f40de4c",
   "metadata": {},
   "outputs": [],
   "source": [
    "df_active_potential = df_active.groupby('Potential').agg({'Employee ID':'count','HIPO + HIPER':'mean','Hot Skill':'mean','2021 Top Talent':'mean','Adjustment Difference':'mean','Termination Probability':'mean'})\n",
    "display(df_active_potential)"
   ]
  },
  {
   "cell_type": "code",
   "execution_count": null,
   "id": "ca6ebc78-423d-46c6-87d5-11bdde6dd228",
   "metadata": {},
   "outputs": [],
   "source": [
    "df_active_perform = df_active.groupby('Performance').agg({'Employee ID':'count','HIPO + HIPER':'mean','Hot Skill':'mean','2021 Top Talent':'mean','Adjustment Difference':'mean','Termination Probability':'mean'})\n",
    "display(df_active_perform)"
   ]
  },
  {
   "cell_type": "code",
   "execution_count": null,
   "id": "70038938-ceec-4591-bf82-4121b95ba0dc",
   "metadata": {},
   "outputs": [],
   "source": [
    "table = pd.pivot_table(df_active, values = 'Termination Probability', index = ['Potential'], columns =['Performance'], aggfunc = np.mean)\n",
    "table"
   ]
  },
  {
   "cell_type": "markdown",
   "id": "b656f1f1-0b63-4bb1-8d8f-cb555bd28608",
   "metadata": {},
   "source": [
    "# Results"
   ]
  },
  {
   "cell_type": "code",
   "execution_count": null,
   "id": "9e657954-4a7e-4fd7-a528-669445ab1f03",
   "metadata": {},
   "outputs": [],
   "source": [
    "listOfActiveColleagues.to_excel(r\"gs://ppl-analytics-cfs/Survival Ad-hoc/Termination Probability.xlsx\")\n"
   ]
  },
  {
   "cell_type": "markdown",
   "id": "e6a2c0bd-d366-4505-93a3-b802322d2338",
   "metadata": {},
   "source": [
    "# Logistic Regression with WoE"
   ]
  },
  {
   "cell_type": "code",
   "execution_count": null,
   "id": "9d517dbc-2630-4894-bdff-1f08412fae5f",
   "metadata": {},
   "outputs": [],
   "source": [
    "df_final.columns"
   ]
  },
  {
   "cell_type": "code",
   "execution_count": null,
   "id": "1342df12-f646-487e-83a2-898138df194d",
   "metadata": {},
   "outputs": [],
   "source": [
    "df_withWOE = df_final.merge(df_woe_adjust[['woe']].reset_index(), on='adj_cat', how='left')\n",
    "df_withWOE.rename(columns = {'woe':'woe_adjustment'}, inplace=True)\n",
    "\n",
    "df_withWOE = df_withWOE.merge(df_woe_market[['woe']].reset_index(), on='market_cat', how='left')\n",
    "df_withWOE.rename(columns = {'woe':'woe_market'}, inplace=True)\n"
   ]
  },
  {
   "cell_type": "code",
   "execution_count": null,
   "id": "990a6674-7cae-4349-9225-36d2cc2ce864",
   "metadata": {},
   "outputs": [],
   "source": [
    "df_withWOE[['Employee ID','woe_market','woe_adjustment','Terminated']]"
   ]
  },
  {
   "cell_type": "code",
   "execution_count": null,
   "id": "e7bbdb3f-c1f1-4980-b78a-f945262c80e5",
   "metadata": {},
   "outputs": [],
   "source": [
    "df_withWOE.replace([np.inf, -np.inf], np.nan, inplace=True)\n",
    "\n",
    "print(df_withWOE.shape)\n",
    "df_withWOE.dropna(inplace = True)\n",
    "print(df_withWOE.shape)"
   ]
  },
  {
   "cell_type": "code",
   "execution_count": null,
   "id": "44ba2292-0fb5-4f12-a3cf-28580f37f5bc",
   "metadata": {},
   "outputs": [],
   "source": [
    "from sklearn.model_selection import StratifiedShuffleSplit"
   ]
  },
  {
   "cell_type": "code",
   "execution_count": null,
   "id": "5342f962-c5a3-4753-9174-b2837a2b7bc1",
   "metadata": {},
   "outputs": [],
   "source": [
    "df_withWOE.shape"
   ]
  },
  {
   "cell_type": "code",
   "execution_count": null,
   "id": "8c5fc649-3e17-42c2-802e-f3eb375ab0d9",
   "metadata": {},
   "outputs": [],
   "source": [
    "df_withWOE"
   ]
  },
  {
   "cell_type": "code",
   "execution_count": null,
   "id": "7ac6100c-e1f9-4226-bf73-0efb2a667eb7",
   "metadata": {},
   "outputs": [],
   "source": [
    "xFeatures = columnsToConsiderForLR = ['woe_adjustment','woe_market']\n",
    "\n",
    "# ['Market Ratio Cat','Adjustment Ratio Cat','Potential Cat','Performance']\n",
    "df_train = df_withWOE.groupby('Terminated', group_keys=False).apply(lambda x: x.sample(3))\n",
    "\n",
    "\n",
    "df_withWOE_forLR_train_x = df_train[xFeatures]\n",
    "df_withWOE_forLR_train_y = df_train['Terminated']\n",
    "\n",
    "clf1 = LogisticRegression(random_state=0)\n",
    "clf1.fit(df_withWOE_forLR_train_x,df_withWOE_forLR_train_y)\n",
    "\n",
    "\n",
    "\n",
    "dicCofVal = dict()\n",
    "\n",
    "for x in range(len(df_withWOE_forLR_train_x.columns)):\n",
    "    dicCofVal[df_withWOE_forLR_train_x.columns[x]] = list(clf1.coef_[0])[x]\n",
    "\n",
    "\n",
    "df_coefValues = pd.DataFrame(columns =df_withWOE_forLR_train_x.columns)\n",
    "df_coefValues = df_coefValues.append(dicCofVal, ignore_index=True).T\n",
    "df_coefValues.columns = ['coef']\n",
    "\n",
    "df_coefValues['odds'] = df_coefValues['coef'].apply(np.exp)\n",
    "df_coefValues['prob'] = df_coefValues['odds'] /(1+df_coefValues['odds'])\n",
    "\n",
    "df_coefValues"
   ]
  },
  {
   "cell_type": "code",
   "execution_count": null,
   "id": "8bc57d9b-ce8d-4e38-9e02-996ebc01058c",
   "metadata": {},
   "outputs": [],
   "source": []
  }
 ],
 "metadata": {
  "environment": {
   "kernel": "python3",
   "name": "tf2-gpu.2-6.m89",
   "type": "gcloud",
   "uri": "gcr.io/deeplearning-platform-release/tf2-gpu.2-6:m89"
  },
  "kernelspec": {
   "display_name": "Python 3 (ipykernel)",
   "language": "python",
   "name": "python3"
  },
  "language_info": {
   "codemirror_mode": {
    "name": "ipython",
    "version": 3
   },
   "file_extension": ".py",
   "mimetype": "text/x-python",
   "name": "python",
   "nbconvert_exporter": "python",
   "pygments_lexer": "ipython3",
   "version": "3.7.12"
  }
 },
 "nbformat": 4,
 "nbformat_minor": 5
}
